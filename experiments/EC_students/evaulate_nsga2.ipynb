{
 "cells": [
  {
   "cell_type": "code",
   "execution_count": 1,
   "id": "50350c70-47e1-4818-98a7-bc6233f79328",
   "metadata": {},
   "outputs": [],
   "source": [
    "import pandas as pd\n",
    "import numpy as np\n",
    "import copy as cp\n",
    "import matplotlib.pyplot as plt\n",
    "import seaborn as sns\n",
    "import os\n",
    "from natsort import natsorted, ns"
   ]
  },
  {
   "cell_type": "code",
   "execution_count": 9,
   "id": "d9a231bd-9d95-4c2c-8763-473a44626d23",
   "metadata": {},
   "outputs": [],
   "source": [
    "os.chdir('..')"
   ]
  },
  {
   "cell_type": "code",
   "execution_count": 10,
   "id": "50a8903b-0872-48ea-8fda-9316d1e9c0cd",
   "metadata": {},
   "outputs": [],
   "source": [
    "#set experiment folder as root dir of this script\n",
    "experiment_folder = \"./data/nsga2_exp_abs_rot_2\"\n",
    "os.chdir(experiment_folder)"
   ]
  },
  {
   "cell_type": "code",
   "execution_count": 11,
   "id": "634f5f61-7d85-4323-a058-5758a881e6d3",
   "metadata": {},
   "outputs": [
    {
     "data": {
      "text/plain": [
       "'/home/julian/Data/git/revolve-energize/experiments/EC_students/data/nsga2_exp_abs_rot_2'"
      ]
     },
     "execution_count": 11,
     "metadata": {},
     "output_type": "execute_result"
    }
   ],
   "source": [
    "pwd"
   ]
  },
  {
   "cell_type": "code",
   "execution_count": 60,
   "id": "f2a6a053-498a-4043-b0f1-c415e6ee9b8f",
   "metadata": {},
   "outputs": [],
   "source": [
    "#set hyperparameters \n",
    "num_generations = 3\n",
    "population_size = 100\n",
    "num_runs = 2\n",
    "\n",
    "\n",
    "    "
   ]
  },
  {
   "cell_type": "code",
   "execution_count": 61,
   "id": "444b0fb5-9a2e-4d80-b8e2-202b3166ec62",
   "metadata": {},
   "outputs": [],
   "source": [
    "df = pd.DataFrame()\n",
    "generation_identifiers = {}\n",
    "\n",
    "for run in sorted(os.listdir(\".\")):\n",
    "    if run[0].isdigit():\n",
    "        #only use the run dirs \n",
    "        for filename in natsorted(os.listdir(\"./\"+run+\"/generations\")):\n",
    "            _generation_ids = pd.read_csv(\"./\"+run+\"/generations/\"+filename+\"/identifiers.txt\", header=None)\n",
    "            _generation_ids.rename({0: filename}, axis=1, inplace=True)\n",
    "            if not f\"{run}\" in generation_identifiers:\n",
    "                generation_identifiers[f\"{run}\"] = []\n",
    "            generation_identifiers[f\"{run}\"].append(_generation_ids)\n",
    "            "
   ]
  },
  {
   "cell_type": "code",
   "execution_count": 62,
   "id": "073244b0-ca44-4440-83c5-601913e7cf52",
   "metadata": {},
   "outputs": [
    {
     "data": {
      "text/plain": [
       "2"
      ]
     },
     "execution_count": 62,
     "metadata": {},
     "output_type": "execute_result"
    }
   ],
   "source": [
    "#contains the information about the phenotype ID of each generation\n",
    "len(generation_identifiers)"
   ]
  },
  {
   "cell_type": "code",
   "execution_count": 63,
   "id": "41511a8a-1160-411f-9053-4b3ad7fed3b5",
   "metadata": {},
   "outputs": [],
   "source": [
    "runs = {}\n",
    "for run in range(1, num_runs+1):\n",
    "    # cause run starts with 1 \n",
    "    df = pd.DataFrame()\n",
    "    for generation in range(num_generations):\n",
    "        df = df.append(generation_identifiers[f\"{run}\"][generation][f\"generation_{generation}\"])\n",
    "    runs[f\"{run}\"] = df\n",
    "    "
   ]
  },
  {
   "cell_type": "code",
   "execution_count": 124,
   "id": "9c48378a-a9ed-4347-b682-31c60f44c566",
   "metadata": {},
   "outputs": [],
   "source": [
    "fitness_values = {}\n",
    "\n",
    "for run in range(1, num_runs+1):\n",
    "    fitness_values[f\"{run}\"] = pd.read_csv(f\"{run}/data_fullevolution/fitness.csv\", header=None, delimiter=',')\n",
    "    fitness_values[f\"{run}\"].rename({0:\"Individual_ID\", 1:\"Rotation\", 2:\"Follow_Line\"}, axis=1, inplace=True)\n",
    "    fitness_values[f\"{run}\"][\"Rotation\"] = fitness_values[f\"{run}\"][\"Rotation\"].apply(lambda x: x.replace('(','').replace(')','')).astype(float)\n",
    "    fitness_values[f\"{run}\"][\"Follow_Line\"] = fitness_values[f\"{run}\"][\"Follow_Line\"].apply(lambda x: x.replace('(','').replace(')','')).astype(float)\n",
    "    \n",
    "    \n",
    " \n"
   ]
  },
  {
   "cell_type": "code",
   "execution_count": 174,
   "id": "e30f729f-6b40-48e1-a514-92e5c9a58720",
   "metadata": {},
   "outputs": [
    {
     "data": {
      "text/html": [
       "<div>\n",
       "<style scoped>\n",
       "    .dataframe tbody tr th:only-of-type {\n",
       "        vertical-align: middle;\n",
       "    }\n",
       "\n",
       "    .dataframe tbody tr th {\n",
       "        vertical-align: top;\n",
       "    }\n",
       "\n",
       "    .dataframe thead th {\n",
       "        text-align: right;\n",
       "    }\n",
       "</style>\n",
       "<table border=\"1\" class=\"dataframe\">\n",
       "  <thead>\n",
       "    <tr style=\"text-align: right;\">\n",
       "      <th></th>\n",
       "      <th>Individual_ID</th>\n",
       "      <th>Rotation</th>\n",
       "      <th>Follow_Line</th>\n",
       "    </tr>\n",
       "  </thead>\n",
       "  <tbody>\n",
       "    <tr>\n",
       "      <th>249</th>\n",
       "      <td>250</td>\n",
       "      <td>4.318874e-35</td>\n",
       "      <td>0.0</td>\n",
       "    </tr>\n",
       "    <tr>\n",
       "      <th>250</th>\n",
       "      <td>251</td>\n",
       "      <td>1.080986e-01</td>\n",
       "      <td>0.0</td>\n",
       "    </tr>\n",
       "    <tr>\n",
       "      <th>251</th>\n",
       "      <td>252</td>\n",
       "      <td>2.928777e+00</td>\n",
       "      <td>0.0</td>\n",
       "    </tr>\n",
       "  </tbody>\n",
       "</table>\n",
       "</div>"
      ],
      "text/plain": [
       "     Individual_ID      Rotation  Follow_Line\n",
       "249            250  4.318874e-35          0.0\n",
       "250            251  1.080986e-01          0.0\n",
       "251            252  2.928777e+00          0.0"
      ]
     },
     "execution_count": 174,
     "metadata": {},
     "output_type": "execute_result"
    }
   ],
   "source": [
    "fitness_values['1'].tail(3)"
   ]
  },
  {
   "cell_type": "code",
   "execution_count": 379,
   "id": "811180e3-f0a7-4290-ab81-c78041cfe9be",
   "metadata": {},
   "outputs": [],
   "source": [
    "# no exchange the phenotype ID with the fitness value \n",
    "fitness_df_1 = pd.DataFrame()\n",
    "for _run in runs:\n",
    "    run_df = runs[_run]\n",
    "    _fitness_df = cp.deepcopy(run_df.T)\n",
    "    for gen in run_df.T:\n",
    "        for index in range(len(run_df.T)):\n",
    "            individual = int((_fitness_df[gen][int(index)]))\n",
    "            fitness_value = fitness_values[str(_run)].T[(individual)]['Follow_Line']\n",
    "            _fitness_df[gen][index] = fitness_value\n",
    "            \n",
    "    cur_run = np.ndarray(shape=(len(_fitness_df)))\n",
    "    cur_run.fill(int(_run))\n",
    "    _fitness_df['run'] = cur_run\n",
    "\n",
    "    fitness_df_1 = fitness_df_1.append(_fitness_df)"
   ]
  },
  {
   "cell_type": "code",
   "execution_count": 380,
   "id": "f6940c90-26ef-43f1-b84d-a0db5ac2d1d9",
   "metadata": {},
   "outputs": [],
   "source": [
    "# no exchange the phenotype ID with the fitness value \n",
    "fitness_df_2 = pd.DataFrame()\n",
    "for _run in runs:\n",
    "    run_df = runs[_run]\n",
    "    _fitness_df = cp.deepcopy(run_df.T)\n",
    "    for gen in run_df.T:\n",
    "        for index in range(len(run_df.T)):\n",
    "            individual = int((_fitness_df[gen][int(index)]))\n",
    "            fitness_value = fitness_values[str(_run)].T[(individual)]['Rotation']\n",
    "            _fitness_df[gen][index] = fitness_value\n",
    "            \n",
    "    cur_run = np.ndarray(shape=(len(_fitness_df)))\n",
    "    cur_run.fill(int(_run))\n",
    "    _fitness_df['run'] = cur_run\n",
    "\n",
    "    fitness_df_2 = fitness_df_2.append(_fitness_df)"
   ]
  },
  {
   "cell_type": "code",
   "execution_count": 400,
   "id": "68d1d938-acda-4a0a-aeca-8e63e914e4fe",
   "metadata": {},
   "outputs": [],
   "source": [
    "mean_dic = {}\n",
    "std_dic = {}\n",
    "min_dic = {}\n",
    "max_dic = {}\n",
    "result_df_1 = pd.DataFrame()\n",
    "for run in range(num_runs):\n",
    "    _result_df = pd.DataFrame()\n",
    "    for gen in fitness_df_1:\n",
    "        if gen != 'run':\n",
    "            mean_dic[gen] = fitness_df_1[gen].mean()\n",
    "            std_dic[gen] = fitness_df_1[gen].std()\n",
    "            min_dic[gen] = fitness_df_1[gen].min()\n",
    "            max_dic[gen] = fitness_df_1[gen].max()\n",
    "\n",
    "        \n",
    "    \n",
    "    mean_df = pd.DataFrame(mean_dic, index=[0]).rename({0:\"mean\"})\n",
    "    std_df =  pd.DataFrame(std_dic, index=[0]).rename({0:\"std\"})\n",
    "    min_df =  pd.DataFrame(min_dic, index=[0]).rename({0:\"min\"})\n",
    "    max_df =  pd.DataFrame(max_dic, index=[0]).rename({0:\"max\"})\n",
    "    _result_df = mean_df.append(std_df).append(min_df).append(max_df).T\n",
    "    _result_df['run'] = run+1\n",
    "    result_df_1 = result_df_1.append(_result_df)"
   ]
  },
  {
   "cell_type": "code",
   "execution_count": 401,
   "id": "9c0a8882-3f1a-4133-a970-b0626b86ca0d",
   "metadata": {},
   "outputs": [],
   "source": [
    "mean_dic = {}\n",
    "std_dic = {}\n",
    "min_dic = {}\n",
    "max_dic = {}\n",
    "result_df_2 = pd.DataFrame()\n",
    "for run in range(num_runs):\n",
    "    _result_df = pd.DataFrame()\n",
    "    for gen in fitness_df_2:\n",
    "        if gen != 'run':\n",
    "            mean_dic[gen] = fitness_df_2[gen].mean()\n",
    "            std_dic[gen] = fitness_df_2[gen].std()\n",
    "            min_dic[gen] = fitness_df_2[gen].min()\n",
    "            max_dic[gen] = fitness_df_2[gen].max()\n",
    "\n",
    "        \n",
    "    \n",
    "    mean_df = pd.DataFrame(mean_dic, index=[0]).rename({0:\"mean\"})\n",
    "    std_df =  pd.DataFrame(std_dic, index=[0]).rename({0:\"std\"})\n",
    "    min_df =  pd.DataFrame(min_dic, index=[0]).rename({0:\"min\"})\n",
    "    max_df =  pd.DataFrame(max_dic, index=[0]).rename({0:\"max\"})\n",
    "    _result_df = mean_df.append(std_df).append(min_df).append(max_df).T\n",
    "    _result_df['run'] = run+1\n",
    "    result_df_2 = result_df_2.append(_result_df)"
   ]
  },
  {
   "cell_type": "code",
   "execution_count": 402,
   "id": "5bec8cac-5205-4253-8636-08645bfd6945",
   "metadata": {},
   "outputs": [
    {
     "data": {
      "text/html": [
       "<div>\n",
       "<style scoped>\n",
       "    .dataframe tbody tr th:only-of-type {\n",
       "        vertical-align: middle;\n",
       "    }\n",
       "\n",
       "    .dataframe tbody tr th {\n",
       "        vertical-align: top;\n",
       "    }\n",
       "\n",
       "    .dataframe thead th {\n",
       "        text-align: right;\n",
       "    }\n",
       "</style>\n",
       "<table border=\"1\" class=\"dataframe\">\n",
       "  <thead>\n",
       "    <tr style=\"text-align: right;\">\n",
       "      <th></th>\n",
       "      <th>mean</th>\n",
       "      <th>std</th>\n",
       "      <th>min</th>\n",
       "      <th>max</th>\n",
       "      <th>run</th>\n",
       "    </tr>\n",
       "  </thead>\n",
       "  <tbody>\n",
       "    <tr>\n",
       "      <th>generation_0</th>\n",
       "      <td>1.067067</td>\n",
       "      <td>3.325690</td>\n",
       "      <td>2.919669e-35</td>\n",
       "      <td>24.73252</td>\n",
       "      <td>1</td>\n",
       "    </tr>\n",
       "    <tr>\n",
       "      <th>...</th>\n",
       "      <td>...</td>\n",
       "      <td>...</td>\n",
       "      <td>...</td>\n",
       "      <td>...</td>\n",
       "      <td>...</td>\n",
       "    </tr>\n",
       "    <tr>\n",
       "      <th>generation_2</th>\n",
       "      <td>1.158106</td>\n",
       "      <td>3.006408</td>\n",
       "      <td>0.000000e+00</td>\n",
       "      <td>24.73252</td>\n",
       "      <td>2</td>\n",
       "    </tr>\n",
       "  </tbody>\n",
       "</table>\n",
       "<p>6 rows × 5 columns</p>\n",
       "</div>"
      ],
      "text/plain": [
       "                  mean       std           min       max  run\n",
       "generation_0  1.067067  3.325690  2.919669e-35  24.73252    1\n",
       "...                ...       ...           ...       ...  ...\n",
       "generation_2  1.158106  3.006408  0.000000e+00  24.73252    2\n",
       "\n",
       "[6 rows x 5 columns]"
      ]
     },
     "execution_count": 402,
     "metadata": {},
     "output_type": "execute_result"
    }
   ],
   "source": [
    "result_df_2"
   ]
  },
  {
   "cell_type": "code",
   "execution_count": 403,
   "id": "e207f113-4c95-4a14-bbd1-11c549da0627",
   "metadata": {},
   "outputs": [
    {
     "data": {
      "text/html": [
       "<div>\n",
       "<style scoped>\n",
       "    .dataframe tbody tr th:only-of-type {\n",
       "        vertical-align: middle;\n",
       "    }\n",
       "\n",
       "    .dataframe tbody tr th {\n",
       "        vertical-align: top;\n",
       "    }\n",
       "\n",
       "    .dataframe thead th {\n",
       "        text-align: right;\n",
       "    }\n",
       "</style>\n",
       "<table border=\"1\" class=\"dataframe\">\n",
       "  <thead>\n",
       "    <tr style=\"text-align: right;\">\n",
       "      <th></th>\n",
       "      <th>mean</th>\n",
       "      <th>std</th>\n",
       "      <th>min</th>\n",
       "      <th>max</th>\n",
       "      <th>run</th>\n",
       "    </tr>\n",
       "  </thead>\n",
       "  <tbody>\n",
       "    <tr>\n",
       "      <th>generation_0</th>\n",
       "      <td>1.067067</td>\n",
       "      <td>3.325690</td>\n",
       "      <td>2.919669e-35</td>\n",
       "      <td>24.73252</td>\n",
       "      <td>1</td>\n",
       "    </tr>\n",
       "    <tr>\n",
       "      <th>...</th>\n",
       "      <td>...</td>\n",
       "      <td>...</td>\n",
       "      <td>...</td>\n",
       "      <td>...</td>\n",
       "      <td>...</td>\n",
       "    </tr>\n",
       "    <tr>\n",
       "      <th>generation_2</th>\n",
       "      <td>1.158106</td>\n",
       "      <td>3.006408</td>\n",
       "      <td>0.000000e+00</td>\n",
       "      <td>24.73252</td>\n",
       "      <td>2</td>\n",
       "    </tr>\n",
       "  </tbody>\n",
       "</table>\n",
       "<p>6 rows × 5 columns</p>\n",
       "</div>"
      ],
      "text/plain": [
       "                  mean       std           min       max  run\n",
       "generation_0  1.067067  3.325690  2.919669e-35  24.73252    1\n",
       "...                ...       ...           ...       ...  ...\n",
       "generation_2  1.158106  3.006408  0.000000e+00  24.73252    2\n",
       "\n",
       "[6 rows x 5 columns]"
      ]
     },
     "execution_count": 403,
     "metadata": {},
     "output_type": "execute_result"
    }
   ],
   "source": [
    "result_df_2"
   ]
  },
  {
   "cell_type": "code",
   "execution_count": 404,
   "id": "4b09e401-e730-4c3e-b7a9-aae4f0180612",
   "metadata": {},
   "outputs": [
    {
     "data": {
      "text/html": [
       "<div>\n",
       "<style scoped>\n",
       "    .dataframe tbody tr th:only-of-type {\n",
       "        vertical-align: middle;\n",
       "    }\n",
       "\n",
       "    .dataframe tbody tr th {\n",
       "        vertical-align: top;\n",
       "    }\n",
       "\n",
       "    .dataframe thead th {\n",
       "        text-align: right;\n",
       "    }\n",
       "</style>\n",
       "<table border=\"1\" class=\"dataframe\">\n",
       "  <thead>\n",
       "    <tr style=\"text-align: right;\">\n",
       "      <th></th>\n",
       "      <th>mean</th>\n",
       "      <th>std</th>\n",
       "      <th>min</th>\n",
       "      <th>max</th>\n",
       "      <th>run</th>\n",
       "    </tr>\n",
       "    <tr>\n",
       "      <th>generations</th>\n",
       "      <th></th>\n",
       "      <th></th>\n",
       "      <th></th>\n",
       "      <th></th>\n",
       "      <th></th>\n",
       "    </tr>\n",
       "  </thead>\n",
       "  <tbody>\n",
       "    <tr>\n",
       "      <th>0</th>\n",
       "      <td>0.004957</td>\n",
       "      <td>0.026601</td>\n",
       "      <td>0.0</td>\n",
       "      <td>0.324278</td>\n",
       "      <td>1</td>\n",
       "    </tr>\n",
       "    <tr>\n",
       "      <th>...</th>\n",
       "      <td>...</td>\n",
       "      <td>...</td>\n",
       "      <td>...</td>\n",
       "      <td>...</td>\n",
       "      <td>...</td>\n",
       "    </tr>\n",
       "    <tr>\n",
       "      <th>5</th>\n",
       "      <td>0.003834</td>\n",
       "      <td>0.015486</td>\n",
       "      <td>0.0</td>\n",
       "      <td>0.163971</td>\n",
       "      <td>2</td>\n",
       "    </tr>\n",
       "  </tbody>\n",
       "</table>\n",
       "<p>6 rows × 5 columns</p>\n",
       "</div>"
      ],
      "text/plain": [
       "                 mean       std  min       max  run\n",
       "generations                                        \n",
       "0            0.004957  0.026601  0.0  0.324278    1\n",
       "...               ...       ...  ...       ...  ...\n",
       "5            0.003834  0.015486  0.0  0.163971    2\n",
       "\n",
       "[6 rows x 5 columns]"
      ]
     },
     "execution_count": 404,
     "metadata": {},
     "output_type": "execute_result"
    }
   ],
   "source": [
    "result_df_1 = result_df_1.set_axis([i for i in range(len(result_df_1))])\n",
    "result_df_1.index.name = 'generations'\n",
    "result_df_1"
   ]
  },
  {
   "cell_type": "code",
   "execution_count": 405,
   "id": "e1e7cf05-c4f3-4365-b2e0-3dcd6c368515",
   "metadata": {},
   "outputs": [
    {
     "data": {
      "text/html": [
       "<div>\n",
       "<style scoped>\n",
       "    .dataframe tbody tr th:only-of-type {\n",
       "        vertical-align: middle;\n",
       "    }\n",
       "\n",
       "    .dataframe tbody tr th {\n",
       "        vertical-align: top;\n",
       "    }\n",
       "\n",
       "    .dataframe thead th {\n",
       "        text-align: right;\n",
       "    }\n",
       "</style>\n",
       "<table border=\"1\" class=\"dataframe\">\n",
       "  <thead>\n",
       "    <tr style=\"text-align: right;\">\n",
       "      <th></th>\n",
       "      <th>mean</th>\n",
       "      <th>std</th>\n",
       "      <th>min</th>\n",
       "      <th>max</th>\n",
       "      <th>run</th>\n",
       "    </tr>\n",
       "    <tr>\n",
       "      <th>generations</th>\n",
       "      <th></th>\n",
       "      <th></th>\n",
       "      <th></th>\n",
       "      <th></th>\n",
       "      <th></th>\n",
       "    </tr>\n",
       "  </thead>\n",
       "  <tbody>\n",
       "    <tr>\n",
       "      <th>0</th>\n",
       "      <td>1.067067</td>\n",
       "      <td>3.325690</td>\n",
       "      <td>2.919669e-35</td>\n",
       "      <td>24.73252</td>\n",
       "      <td>1</td>\n",
       "    </tr>\n",
       "    <tr>\n",
       "      <th>...</th>\n",
       "      <td>...</td>\n",
       "      <td>...</td>\n",
       "      <td>...</td>\n",
       "      <td>...</td>\n",
       "      <td>...</td>\n",
       "    </tr>\n",
       "    <tr>\n",
       "      <th>5</th>\n",
       "      <td>1.158106</td>\n",
       "      <td>3.006408</td>\n",
       "      <td>0.000000e+00</td>\n",
       "      <td>24.73252</td>\n",
       "      <td>2</td>\n",
       "    </tr>\n",
       "  </tbody>\n",
       "</table>\n",
       "<p>6 rows × 5 columns</p>\n",
       "</div>"
      ],
      "text/plain": [
       "                 mean       std           min       max  run\n",
       "generations                                                 \n",
       "0            1.067067  3.325690  2.919669e-35  24.73252    1\n",
       "...               ...       ...           ...       ...  ...\n",
       "5            1.158106  3.006408  0.000000e+00  24.73252    2\n",
       "\n",
       "[6 rows x 5 columns]"
      ]
     },
     "execution_count": 405,
     "metadata": {},
     "output_type": "execute_result"
    }
   ],
   "source": [
    "result_df_2 = result_df_2.set_axis([i for i in range(len(result_df_2))])\n",
    "result_df_2.index.name = 'generations'\n",
    "result_df_2"
   ]
  },
  {
   "cell_type": "code",
   "execution_count": 406,
   "id": "eed5d38b-8f68-4a60-99c1-75567a4ee2c1",
   "metadata": {},
   "outputs": [
    {
     "data": {
      "image/png": "[encoded data removed]",
      "text/plain": [
       "<Figure size 1080x648 with 1 Axes>"
      ]
     },
     "metadata": {},
     "output_type": "display_data"
    }
   ],
   "source": [
    "ax = sns.lineplot(x=result_df_1.T.columns, y=result_df_1['mean'], markers=True, dashes=True)\n",
    "ax.set(ylabel='Mean of Follow_Line Objective Function')\n",
    "sns.set(rc={'figure.figsize':(15,9)})\n",
    "#ax.figure.savefig(\"output.png\")\n",
    "plt.show()"
   ]
  },
  {
   "cell_type": "code",
   "execution_count": 407,
   "id": "539c88b8-4814-4351-8b17-5c704dab2dce",
   "metadata": {},
   "outputs": [
    {
     "data": {
      "image/png": "[encoded data removed]",
      "text/plain": [
       "<Figure size 1080x648 with 1 Axes>"
      ]
     },
     "metadata": {},
     "output_type": "display_data"
    }
   ],
   "source": [
    "ax = sns.lineplot(x=result_df_2.T.columns, y=result_df_2['mean'], markers=True, dashes=True)\n",
    "ax.set(ylabel='Mean of Follow_Line Objective Function')\n",
    "sns.set(rc={'figure.figsize':(15,9)})\n",
    "#ax.figure.savefig(\"output.png\")\n",
    "plt.show()"
   ]
  },
  {
   "cell_type": "code",
   "execution_count": 408,
   "id": "5a095e2c-f177-428f-a77d-6619e7f55b6d",
   "metadata": {},
   "outputs": [
    {
     "data": {
      "text/html": [
       "<div>\n",
       "<style scoped>\n",
       "    .dataframe tbody tr th:only-of-type {\n",
       "        vertical-align: middle;\n",
       "    }\n",
       "\n",
       "    .dataframe tbody tr th {\n",
       "        vertical-align: top;\n",
       "    }\n",
       "\n",
       "    .dataframe thead th {\n",
       "        text-align: right;\n",
       "    }\n",
       "</style>\n",
       "<table border=\"1\" class=\"dataframe\">\n",
       "  <thead>\n",
       "    <tr style=\"text-align: right;\">\n",
       "      <th></th>\n",
       "      <th>0</th>\n",
       "      <th>1</th>\n",
       "      <th>2</th>\n",
       "      <th>run</th>\n",
       "    </tr>\n",
       "  </thead>\n",
       "  <tbody>\n",
       "    <tr>\n",
       "      <th>0</th>\n",
       "      <td>0.000000</td>\n",
       "      <td>0.000000</td>\n",
       "      <td>0.0</td>\n",
       "      <td>1.0</td>\n",
       "    </tr>\n",
       "    <tr>\n",
       "      <th>...</th>\n",
       "      <td>...</td>\n",
       "      <td>...</td>\n",
       "      <td>...</td>\n",
       "      <td>...</td>\n",
       "    </tr>\n",
       "    <tr>\n",
       "      <th>99</th>\n",
       "      <td>0.000479</td>\n",
       "      <td>0.019057</td>\n",
       "      <td>0.0</td>\n",
       "      <td>2.0</td>\n",
       "    </tr>\n",
       "  </tbody>\n",
       "</table>\n",
       "<p>200 rows × 4 columns</p>\n",
       "</div>"
      ],
      "text/plain": [
       "           0         1    2  run\n",
       "0   0.000000  0.000000  0.0  1.0\n",
       "..       ...       ...  ...  ...\n",
       "99  0.000479  0.019057  0.0  2.0\n",
       "\n",
       "[200 rows x 4 columns]"
      ]
     },
     "execution_count": 408,
     "metadata": {},
     "output_type": "execute_result"
    }
   ],
   "source": [
    "formated_fitness_df_1 = cp.deepcopy(fitness_df_1)\n",
    "formated_fitness_df_1.set_axis([i for i in range(len(fitness_df_1.T))], axis=1, inplace=True)\n",
    "formated_fitness_df_1.rename(columns={len(fitness_df_1.T)-1 : 'run'}, inplace=True)\n",
    "formated_fitness_df_1"
   ]
  },
  {
   "cell_type": "code",
   "execution_count": 409,
   "id": "0f43e856-2571-4fa7-9935-41225d83d940",
   "metadata": {},
   "outputs": [
    {
     "data": {
      "text/html": [
       "<div>\n",
       "<style scoped>\n",
       "    .dataframe tbody tr th:only-of-type {\n",
       "        vertical-align: middle;\n",
       "    }\n",
       "\n",
       "    .dataframe tbody tr th {\n",
       "        vertical-align: top;\n",
       "    }\n",
       "\n",
       "    .dataframe thead th {\n",
       "        text-align: right;\n",
       "    }\n",
       "</style>\n",
       "<table border=\"1\" class=\"dataframe\">\n",
       "  <thead>\n",
       "    <tr style=\"text-align: right;\">\n",
       "      <th></th>\n",
       "      <th>run</th>\n",
       "      <th>generation</th>\n",
       "      <th>fitness_follow_line</th>\n",
       "    </tr>\n",
       "  </thead>\n",
       "  <tbody>\n",
       "    <tr>\n",
       "      <th>0</th>\n",
       "      <td>1.0</td>\n",
       "      <td>0</td>\n",
       "      <td>0.0</td>\n",
       "    </tr>\n",
       "    <tr>\n",
       "      <th>1</th>\n",
       "      <td>1.0</td>\n",
       "      <td>0</td>\n",
       "      <td>0.0</td>\n",
       "    </tr>\n",
       "    <tr>\n",
       "      <th>2</th>\n",
       "      <td>1.0</td>\n",
       "      <td>0</td>\n",
       "      <td>0.0</td>\n",
       "    </tr>\n",
       "  </tbody>\n",
       "</table>\n",
       "</div>"
      ],
      "text/plain": [
       "   run generation  fitness_follow_line\n",
       "0  1.0          0                  0.0\n",
       "1  1.0          0                  0.0\n",
       "2  1.0          0                  0.0"
      ]
     },
     "execution_count": 409,
     "metadata": {},
     "output_type": "execute_result"
    }
   ],
   "source": [
    "melted_formated_fitness_1 = formated_fitness_df_1.melt(id_vars='run')\n",
    "melted_formated_fitness_1.rename(columns={'variable':'generation', 'value':'fitness_follow_line'}, inplace=True)\n",
    "melted_formated_fitness_1.head(3)"
   ]
  },
  {
   "cell_type": "code",
   "execution_count": 410,
   "id": "0dc5b6da-a4a9-4b36-8852-66b15ed9c480",
   "metadata": {},
   "outputs": [
    {
     "data": {
      "text/plain": [
       "<AxesSubplot:xlabel='generation', ylabel='fitness_follow_line'>"
      ]
     },
     "execution_count": 410,
     "metadata": {},
     "output_type": "execute_result"
    },
    {
     "data": {
      "image/png": "[encoded data removed]",
      "text/plain": [
       "<Figure size 1080x648 with 1 Axes>"
      ]
     },
     "metadata": {},
     "output_type": "display_data"
    }
   ],
   "source": [
    "sns.lineplot(data=melted_formated_fitness_1, x='generation', hue='run', y='fitness_follow_line')"
   ]
  },
  {
   "cell_type": "code",
   "execution_count": 411,
   "id": "41eb4c73-3d67-4aa4-b369-3a14a99aef6f",
   "metadata": {},
   "outputs": [
    {
     "data": {
      "text/html": [
       "<div>\n",
       "<style scoped>\n",
       "    .dataframe tbody tr th:only-of-type {\n",
       "        vertical-align: middle;\n",
       "    }\n",
       "\n",
       "    .dataframe tbody tr th {\n",
       "        vertical-align: top;\n",
       "    }\n",
       "\n",
       "    .dataframe thead th {\n",
       "        text-align: right;\n",
       "    }\n",
       "</style>\n",
       "<table border=\"1\" class=\"dataframe\">\n",
       "  <thead>\n",
       "    <tr style=\"text-align: right;\">\n",
       "      <th></th>\n",
       "      <th>run</th>\n",
       "      <th>generation</th>\n",
       "      <th>fitness_rotation</th>\n",
       "    </tr>\n",
       "  </thead>\n",
       "  <tbody>\n",
       "    <tr>\n",
       "      <th>597</th>\n",
       "      <td>2.0</td>\n",
       "      <td>2</td>\n",
       "      <td>0.008021</td>\n",
       "    </tr>\n",
       "    <tr>\n",
       "      <th>598</th>\n",
       "      <td>2.0</td>\n",
       "      <td>2</td>\n",
       "      <td>0.020629</td>\n",
       "    </tr>\n",
       "    <tr>\n",
       "      <th>599</th>\n",
       "      <td>2.0</td>\n",
       "      <td>2</td>\n",
       "      <td>0.176676</td>\n",
       "    </tr>\n",
       "  </tbody>\n",
       "</table>\n",
       "</div>"
      ],
      "text/plain": [
       "     run generation  fitness_rotation\n",
       "597  2.0          2          0.008021\n",
       "598  2.0          2          0.020629\n",
       "599  2.0          2          0.176676"
      ]
     },
     "execution_count": 411,
     "metadata": {},
     "output_type": "execute_result"
    }
   ],
   "source": [
    "formated_fitness_df_2 = cp.deepcopy(fitness_df_2)\n",
    "formated_fitness_df_2.set_axis([i for i in range(len(fitness_df_2.T))], axis=1, inplace=True)\n",
    "formated_fitness_df_2.rename(columns={len(fitness_df_2.T)-1 : 'run'}, inplace=True)\n",
    "melted_formated_fitness_2 = formated_fitness_df_2.melt(id_vars='run')\n",
    "melted_formated_fitness_2.rename(columns={'variable':'generation', 'value':'fitness_rotation'}, inplace=True)\n",
    "melted_formated_fitness_2.tail(3)"
   ]
  },
  {
   "cell_type": "code",
   "execution_count": 412,
   "id": "a2714c80-9639-42d0-af56-b534a6fad596",
   "metadata": {},
   "outputs": [
    {
     "data": {
      "text/plain": [
       "<AxesSubplot:xlabel='generation', ylabel='fitness_rotation'>"
      ]
     },
     "execution_count": 412,
     "metadata": {},
     "output_type": "execute_result"
    },
    {
     "data": {
      "image/png": "[encoded data removed]",
      "text/plain": [
       "<Figure size 1080x648 with 1 Axes>"
      ]
     },
     "metadata": {},
     "output_type": "display_data"
    }
   ],
   "source": [
    "sns.lineplot(data=melted_formated_fitness_2, x='generation', hue='run', y='fitness_rotation')"
   ]
  },
  {
   "cell_type": "code",
   "execution_count": 413,
   "id": "2f6f051b-db57-4607-87a1-61279580253d",
   "metadata": {},
   "outputs": [],
   "source": [
    "frames = [fitness_df_1.loc[fitness_df_1['run']==1], fitness_df_2.loc[fitness_df_2['run']==1]]\n"
   ]
  },
  {
   "cell_type": "code",
   "execution_count": 414,
   "id": "b488355a-1ebb-4cbe-b93b-cd9b8511ae95",
   "metadata": {},
   "outputs": [
    {
     "data": {
      "text/html": [
       "<div>\n",
       "<style scoped>\n",
       "    .dataframe tbody tr th:only-of-type {\n",
       "        vertical-align: middle;\n",
       "    }\n",
       "\n",
       "    .dataframe tbody tr th {\n",
       "        vertical-align: top;\n",
       "    }\n",
       "\n",
       "    .dataframe thead th {\n",
       "        text-align: right;\n",
       "    }\n",
       "</style>\n",
       "<table border=\"1\" class=\"dataframe\">\n",
       "  <thead>\n",
       "    <tr style=\"text-align: right;\">\n",
       "      <th></th>\n",
       "      <th>generation_0</th>\n",
       "      <th>generation_1</th>\n",
       "      <th>generation_2</th>\n",
       "      <th>run</th>\n",
       "    </tr>\n",
       "  </thead>\n",
       "  <tbody>\n",
       "    <tr>\n",
       "      <th>0</th>\n",
       "      <td>0.0</td>\n",
       "      <td>0.0</td>\n",
       "      <td>0.000000</td>\n",
       "      <td>1.0</td>\n",
       "    </tr>\n",
       "    <tr>\n",
       "      <th>...</th>\n",
       "      <td>...</td>\n",
       "      <td>...</td>\n",
       "      <td>...</td>\n",
       "      <td>...</td>\n",
       "    </tr>\n",
       "    <tr>\n",
       "      <th>99</th>\n",
       "      <td>0.0</td>\n",
       "      <td>0.0</td>\n",
       "      <td>0.163971</td>\n",
       "      <td>1.0</td>\n",
       "    </tr>\n",
       "  </tbody>\n",
       "</table>\n",
       "<p>100 rows × 4 columns</p>\n",
       "</div>"
      ],
      "text/plain": [
       "    generation_0  generation_1  generation_2  run\n",
       "0            0.0           0.0      0.000000  1.0\n",
       "..           ...           ...           ...  ...\n",
       "99           0.0           0.0      0.163971  1.0\n",
       "\n",
       "[100 rows x 4 columns]"
      ]
     },
     "execution_count": 414,
     "metadata": {},
     "output_type": "execute_result"
    }
   ],
   "source": [
    "fitness_df_1.loc[fitness_df_1['run']==1]"
   ]
  },
  {
   "cell_type": "code",
   "execution_count": 415,
   "id": "222387ef-5d36-45dc-8f75-48d9ea89cacc",
   "metadata": {},
   "outputs": [
    {
     "data": {
      "text/html": [
       "<div>\n",
       "<style scoped>\n",
       "    .dataframe tbody tr th:only-of-type {\n",
       "        vertical-align: middle;\n",
       "    }\n",
       "\n",
       "    .dataframe tbody tr th {\n",
       "        vertical-align: top;\n",
       "    }\n",
       "\n",
       "    .dataframe thead th {\n",
       "        text-align: right;\n",
       "    }\n",
       "</style>\n",
       "<table border=\"1\" class=\"dataframe\">\n",
       "  <thead>\n",
       "    <tr style=\"text-align: right;\">\n",
       "      <th></th>\n",
       "      <th>generation_0</th>\n",
       "      <th>generation_1</th>\n",
       "      <th>generation_2</th>\n",
       "      <th>run</th>\n",
       "    </tr>\n",
       "  </thead>\n",
       "  <tbody>\n",
       "    <tr>\n",
       "      <th>0</th>\n",
       "      <td>0.733427</td>\n",
       "      <td>1.041326e+00</td>\n",
       "      <td>0.002684</td>\n",
       "      <td>1.0</td>\n",
       "    </tr>\n",
       "    <tr>\n",
       "      <th>...</th>\n",
       "      <td>...</td>\n",
       "      <td>...</td>\n",
       "      <td>...</td>\n",
       "      <td>...</td>\n",
       "    </tr>\n",
       "    <tr>\n",
       "      <th>99</th>\n",
       "      <td>0.163254</td>\n",
       "      <td>3.434640e-08</td>\n",
       "      <td>0.012840</td>\n",
       "      <td>1.0</td>\n",
       "    </tr>\n",
       "  </tbody>\n",
       "</table>\n",
       "<p>100 rows × 4 columns</p>\n",
       "</div>"
      ],
      "text/plain": [
       "    generation_0  generation_1  generation_2  run\n",
       "0       0.733427  1.041326e+00      0.002684  1.0\n",
       "..           ...           ...           ...  ...\n",
       "99      0.163254  3.434640e-08      0.012840  1.0\n",
       "\n",
       "[100 rows x 4 columns]"
      ]
     },
     "execution_count": 415,
     "metadata": {},
     "output_type": "execute_result"
    }
   ],
   "source": [
    "fitness_df_2.loc[fitness_df_2['run']==1]"
   ]
  },
  {
   "cell_type": "code",
   "execution_count": 416,
   "id": "f8720657-1b4a-4757-b9fc-0c5440a2d6e9",
   "metadata": {},
   "outputs": [],
   "source": [
    "merged_scatter = pd.merge(left=frames[0], right=frames[1], suffixes=(\"_follow_line\", \"_rotation\"), how='outer' , on=frames[0].index)"
   ]
  },
  {
   "cell_type": "code",
   "execution_count": 438,
   "id": "70f80b79-c3ef-4599-8ee6-f17181bc690d",
   "metadata": {},
   "outputs": [
    {
     "data": {
      "text/html": [
       "<div>\n",
       "<style scoped>\n",
       "    .dataframe tbody tr th:only-of-type {\n",
       "        vertical-align: middle;\n",
       "    }\n",
       "\n",
       "    .dataframe tbody tr th {\n",
       "        vertical-align: top;\n",
       "    }\n",
       "\n",
       "    .dataframe thead th {\n",
       "        text-align: right;\n",
       "    }\n",
       "</style>\n",
       "<table border=\"1\" class=\"dataframe\">\n",
       "  <thead>\n",
       "    <tr style=\"text-align: right;\">\n",
       "      <th></th>\n",
       "      <th>generation_2_follow_line</th>\n",
       "      <th>generation_2_rotation</th>\n",
       "    </tr>\n",
       "  </thead>\n",
       "  <tbody>\n",
       "    <tr>\n",
       "      <th>0</th>\n",
       "      <td>0.000000</td>\n",
       "      <td>0.002684</td>\n",
       "    </tr>\n",
       "    <tr>\n",
       "      <th>...</th>\n",
       "      <td>...</td>\n",
       "      <td>...</td>\n",
       "    </tr>\n",
       "    <tr>\n",
       "      <th>99</th>\n",
       "      <td>0.163971</td>\n",
       "      <td>0.012840</td>\n",
       "    </tr>\n",
       "  </tbody>\n",
       "</table>\n",
       "<p>100 rows × 2 columns</p>\n",
       "</div>"
      ],
      "text/plain": [
       "    generation_2_follow_line  generation_2_rotation\n",
       "0                   0.000000               0.002684\n",
       "..                       ...                    ...\n",
       "99                  0.163971               0.012840\n",
       "\n",
       "[100 rows x 2 columns]"
      ]
     },
     "execution_count": 438,
     "metadata": {},
     "output_type": "execute_result"
    }
   ],
   "source": [
    "merged_short = merged_scatter[['generation_2_follow_line', 'generation_2_rotation']]\n",
    "merged_short"
   ]
  },
  {
   "cell_type": "code",
   "execution_count": 439,
   "id": "39d9147e-a041-483d-a92c-755d0953a6e7",
   "metadata": {},
   "outputs": [
    {
     "data": {
      "text/plain": [
       "<AxesSubplot:xlabel='generation_2_follow_line', ylabel='generation_2_rotation'>"
      ]
     },
     "execution_count": 439,
     "metadata": {},
     "output_type": "execute_result"
    },
    {
     "data": {
      "image/png": "[encoded data removed]",
      "text/plain": [
       "<Figure size 1080x648 with 1 Axes>"
      ]
     },
     "metadata": {},
     "output_type": "display_data"
    }
   ],
   "source": [
    "sns.scatterplot(data=merged_short, x='generation_2_follow_line', y='generation_2_rotation')"
   ]
  },
  {
   "cell_type": "code",
   "execution_count": 425,
   "id": "384de6dc-3874-4c6c-aa9d-f6c110514346",
   "metadata": {},
   "outputs": [
    {
     "data": {
      "text/plain": [
       "<AxesSubplot:ylabel='value'>"
      ]
     },
     "execution_count": 425,
     "metadata": {},
     "output_type": "execute_result"
    },
    {
     "data": {
      "image/png": "[encoded data removed]",
      "text/plain": [
       "<Figure size 1080x648 with 1 Axes>"
      ]
     },
     "metadata": {},
     "output_type": "display_data"
    }
   ],
   "source": [
    "sns.scatterplot(data=melted_scatter, x=melted_scatter.index, y='value', hue='variable')"
   ]
  },
  {
   "cell_type": "code",
   "execution_count": 296,
   "id": "57afe257-3e8f-4799-a5ed-61a0297718c2",
   "metadata": {},
   "outputs": [
    {
     "data": {
      "text/html": [
       "<div>\n",
       "<style scoped>\n",
       "    .dataframe tbody tr th:only-of-type {\n",
       "        vertical-align: middle;\n",
       "    }\n",
       "\n",
       "    .dataframe tbody tr th {\n",
       "        vertical-align: top;\n",
       "    }\n",
       "\n",
       "    .dataframe thead th {\n",
       "        text-align: right;\n",
       "    }\n",
       "</style>\n",
       "<table border=\"1\" class=\"dataframe\">\n",
       "  <thead>\n",
       "    <tr style=\"text-align: right;\">\n",
       "      <th></th>\n",
       "      <th>generation_0</th>\n",
       "      <th>generation_1</th>\n",
       "      <th>generation_2</th>\n",
       "      <th>run</th>\n",
       "    </tr>\n",
       "  </thead>\n",
       "  <tbody>\n",
       "    <tr>\n",
       "      <th>0</th>\n",
       "      <td>0.0</td>\n",
       "      <td>0.0</td>\n",
       "      <td>0.000000</td>\n",
       "      <td>1.0</td>\n",
       "    </tr>\n",
       "    <tr>\n",
       "      <th>...</th>\n",
       "      <td>...</td>\n",
       "      <td>...</td>\n",
       "      <td>...</td>\n",
       "      <td>...</td>\n",
       "    </tr>\n",
       "    <tr>\n",
       "      <th>99</th>\n",
       "      <td>0.0</td>\n",
       "      <td>0.0</td>\n",
       "      <td>0.163971</td>\n",
       "      <td>1.0</td>\n",
       "    </tr>\n",
       "  </tbody>\n",
       "</table>\n",
       "<p>100 rows × 4 columns</p>\n",
       "</div>"
      ],
      "text/plain": [
       "    generation_0  generation_1  generation_2  run\n",
       "0            0.0           0.0      0.000000  1.0\n",
       "..           ...           ...           ...  ...\n",
       "99           0.0           0.0      0.163971  1.0\n",
       "\n",
       "[100 rows x 4 columns]"
      ]
     },
     "execution_count": 296,
     "metadata": {},
     "output_type": "execute_result"
    }
   ],
   "source": []
  },
  {
   "cell_type": "code",
   "execution_count": 291,
   "id": "4cde5404-4119-41d3-938f-6522c005a4a6",
   "metadata": {},
   "outputs": [
    {
     "data": {
      "text/plain": [
       "200"
      ]
     },
     "execution_count": 291,
     "metadata": {},
     "output_type": "execute_result"
    }
   ],
   "source": [
    "len(fitness_df)"
   ]
  },
  {
   "cell_type": "code",
   "execution_count": 441,
   "id": "9033c6b0-3ec5-42f2-b018-af971978bc03",
   "metadata": {},
   "outputs": [],
   "source": [
    "fit = (10, 5)"
   ]
  },
  {
   "cell_type": "code",
   "execution_count": 442,
   "id": "f5611b67-d011-4665-a3b7-2cb29ef027c7",
   "metadata": {},
   "outputs": [
    {
     "name": "stdout",
     "output_type": "stream",
     "text": [
      "10\n",
      "5\n"
     ]
    }
   ],
   "source": [
    "for x in fit:\n",
    "    print(x)"
   ]
  },
  {
   "cell_type": "code",
   "execution_count": null,
   "id": "d11f0579-dd94-4dcc-b81d-1c4ab8b5940a",
   "metadata": {},
   "outputs": [],
   "source": []
  }
 ],
 "metadata": {
  "kernelspec": {
   "display_name": "Python 3",
   "language": "python",
   "name": "python3"
  },
  "language_info": {
   "codemirror_mode": {
    "name": "ipython",
    "version": 3
   },
   "file_extension": ".py",
   "mimetype": "text/x-python",
   "name": "python",
   "nbconvert_exporter": "python",
   "pygments_lexer": "ipython3",
   "version": "3.9.2"
  }
 },
 "nbformat": 4,
 "nbformat_minor": 5
}
