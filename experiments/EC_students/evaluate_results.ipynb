{
 "cells": [
  {
   "cell_type": "code",
   "execution_count": 1,
   "id": "occupied-evans",
   "metadata": {},
   "outputs": [],
   "source": [
    "import pandas as pd\n",
    "import numpy as np\n",
    "import copy as cp\n",
    "import matplotlib.pyplot as plt\n",
    "import seaborn as sns\n",
    "import os\n",
    "from natsort import natsorted, ns"
   ]
  },
  {
   "cell_type": "code",
   "execution_count": 2,
   "id": "private-native",
   "metadata": {},
   "outputs": [
    {
     "data": {
      "text/plain": [
       "'\\nA script to evaulate an experiment and create plots accoringly. \\n\\n'"
      ]
     },
     "execution_count": 2,
     "metadata": {},
     "output_type": "execute_result"
    }
   ],
   "source": [
    "\"\"\"\n",
    "A script to evaulate an experiment and create plots accoringly. \n",
    "\n",
    "\"\"\""
   ]
  },
  {
   "cell_type": "code",
   "execution_count": 8,
   "id": "seven-secondary",
   "metadata": {},
   "outputs": [
    {
     "ename": "FileNotFoundError",
     "evalue": "[Errno 2] No such file or directory: './data/only_rotate/'",
     "output_type": "error",
     "traceback": [
      "\u001b[0;31m---------------------------------------------------------------------------\u001b[0m",
      "\u001b[0;31mFileNotFoundError\u001b[0m                         Traceback (most recent call last)",
      "\u001b[0;32m<ipython-input-8-19abe77a2bc7>\u001b[0m in \u001b[0;36m<module>\u001b[0;34m\u001b[0m\n\u001b[1;32m      1\u001b[0m \u001b[0;31m#set experiment folder as root dir of this script\u001b[0m\u001b[0;34m\u001b[0m\u001b[0;34m\u001b[0m\u001b[0;34m\u001b[0m\u001b[0m\n\u001b[1;32m      2\u001b[0m \u001b[0mexperiment_folder\u001b[0m \u001b[0;34m=\u001b[0m \u001b[0;34m\"./data/only_rotate/\"\u001b[0m\u001b[0;34m\u001b[0m\u001b[0;34m\u001b[0m\u001b[0m\n\u001b[0;32m----> 3\u001b[0;31m \u001b[0mos\u001b[0m\u001b[0;34m.\u001b[0m\u001b[0mchdir\u001b[0m\u001b[0;34m(\u001b[0m\u001b[0mexperiment_folder\u001b[0m\u001b[0;34m)\u001b[0m\u001b[0;34m\u001b[0m\u001b[0;34m\u001b[0m\u001b[0m\n\u001b[0m",
      "\u001b[0;31mFileNotFoundError\u001b[0m: [Errno 2] No such file or directory: './data/only_rotate/'"
     ]
    }
   ],
   "source": [
    "#set experiment folder as root dir of this script\n",
    "experiment_folder = \"./data/only_rotate/\"\n",
    "os.chdir(experiment_folder)"
   ]
  },
  {
   "cell_type": "code",
   "execution_count": 9,
   "id": "ethical-delta",
   "metadata": {},
   "outputs": [],
   "source": [
    "#set hyperparameters \n",
    "num_generations = 100\n",
    "population_size = 100\n",
    "num_runs = 1\n",
    "\n",
    "\n",
    "    "
   ]
  },
  {
   "cell_type": "code",
   "execution_count": 10,
   "id": "ecological-charles",
   "metadata": {},
   "outputs": [],
   "source": [
    "df = pd.DataFrame()\n",
    "generation_identifiers = {}\n",
    "\n",
    "for run in sorted(os.listdir(\".\")):\n",
    "    if run[0].isdigit():\n",
    "        #only use the run dirs \n",
    "        for filename in natsorted(os.listdir(\"./\"+run+\"/generations\")):\n",
    "            _generation_ids = pd.read_csv(\"./\"+run+\"/generations/\"+filename+\"/identifiers.txt\", header=None)\n",
    "            _generation_ids.rename({0: filename}, axis=1, inplace=True)\n",
    "            if not f\"{run}\" in generation_identifiers:\n",
    "                generation_identifiers[f\"{run}\"] = []\n",
    "            generation_identifiers[f\"{run}\"].append(_generation_ids)"
   ]
  },
  {
   "cell_type": "code",
   "execution_count": 11,
   "id": "soviet-portrait",
   "metadata": {},
   "outputs": [
    {
     "data": {
      "text/html": [
       "<div>\n",
       "<style scoped>\n",
       "    .dataframe tbody tr th:only-of-type {\n",
       "        vertical-align: middle;\n",
       "    }\n",
       "\n",
       "    .dataframe tbody tr th {\n",
       "        vertical-align: top;\n",
       "    }\n",
       "\n",
       "    .dataframe thead th {\n",
       "        text-align: right;\n",
       "    }\n",
       "</style>\n",
       "<table border=\"1\" class=\"dataframe\">\n",
       "  <thead>\n",
       "    <tr style=\"text-align: right;\">\n",
       "      <th></th>\n",
       "      <th>generation_0</th>\n",
       "    </tr>\n",
       "  </thead>\n",
       "  <tbody>\n",
       "    <tr>\n",
       "      <th>0</th>\n",
       "      <td>1</td>\n",
       "    </tr>\n",
       "    <tr>\n",
       "      <th>1</th>\n",
       "      <td>2</td>\n",
       "    </tr>\n",
       "    <tr>\n",
       "      <th>2</th>\n",
       "      <td>3</td>\n",
       "    </tr>\n",
       "  </tbody>\n",
       "</table>\n",
       "</div>"
      ],
      "text/plain": [
       "   generation_0\n",
       "0             1\n",
       "1             2\n",
       "2             3"
      ]
     },
     "execution_count": 11,
     "metadata": {},
     "output_type": "execute_result"
    }
   ],
   "source": [
    "#contains the information about the phenotype ID of each generation\n",
    "generation_identifiers['1'][0].head(3)"
   ]
  },
  {
   "cell_type": "code",
   "execution_count": 12,
   "id": "metric-flavor",
   "metadata": {},
   "outputs": [],
   "source": [
    "runs = {}\n",
    "for run in range(1, num_runs+1):\n",
    "    # cause run starts with 1 \n",
    "    df = pd.DataFrame()\n",
    "    for generation in range(num_generations):\n",
    "        df = df.append(generation_identifiers[f\"{run}\"][generation][f\"generation_{generation}\"])\n",
    "    runs[f\"{run}\"] = df"
   ]
  },
  {
   "cell_type": "code",
   "execution_count": 13,
   "id": "representative-double",
   "metadata": {},
   "outputs": [],
   "source": [
    "fitness_values = {}\n",
    "\n",
    "for run in range(1, num_runs+1):\n",
    "    fitness_values[f\"{run}\"] = pd.read_csv(f\"{run}/data_fullevolution/fitness.csv\", header=None)\n",
    "    fitness_values[f\"{run}\"].rename({0:\"Individual_ID\", 1:\"Distance to Target\"}, axis=1, inplace=True)"
   ]
  },
  {
   "cell_type": "code",
   "execution_count": 14,
   "id": "central-antibody",
   "metadata": {},
   "outputs": [],
   "source": [
    "# no exchange the phenotype ID with the fitness value \n",
    "fitness_df = pd.DataFrame()\n",
    "for _run in runs:\n",
    "    run_df = runs[_run]\n",
    "    _fitness_df = cp.deepcopy(run_df.T)\n",
    "    for gen in run_df.T:\n",
    "        for index in range(len(run_df.T)):\n",
    "            individual = int((_fitness_df[gen][int(index)]))\n",
    "            fitness_value = fitness_values[str(_run)].T[(individual)]['Distance to Target']\n",
    "            _fitness_df[gen][index] = fitness_value\n",
    "            \n",
    "    cur_run = np.ndarray(shape=(len(_fitness_df)))\n",
    "    cur_run.fill(int(_run))\n",
    "    _fitness_df['run'] = cur_run\n",
    "\n",
    "    fitness_df = fitness_df.append(_fitness_df)"
   ]
  },
  {
   "cell_type": "code",
   "execution_count": 15,
   "id": "monetary-hometown",
   "metadata": {},
   "outputs": [],
   "source": [
    "mean_dic = {}\n",
    "std_dic = {}\n",
    "min_dic = {}\n",
    "max_dic = {}\n",
    "result_df = pd.DataFrame()\n",
    "for run in range(num_runs):\n",
    "    _result_df = pd.DataFrame()\n",
    "    for gen in fitness_df:\n",
    "        if gen != 'run':\n",
    "            mean_dic[gen] = fitness_df[gen][run*population_size].mean()\n",
    "            std_dic[gen] = fitness_df[gen].std()\n",
    "            min_dic[gen] = fitness_df[gen].min()\n",
    "            max_dic[gen] = fitness_df[gen].max()\n",
    "\n",
    "        \n",
    "    \n",
    "    mean_df = pd.DataFrame(mean_dic, index=[0]).rename({0:\"mean\"})\n",
    "    std_df =  pd.DataFrame(std_dic, index=[0]).rename({0:\"std\"})\n",
    "    min_df =  pd.DataFrame(min_dic, index=[0]).rename({0:\"min\"})\n",
    "    max_df =  pd.DataFrame(max_dic, index=[0]).rename({0:\"max\"})\n",
    "    _result_df = mean_df.append(std_df).append(min_df).append(max_df).T\n",
    "    _result_df['run'] = run+1\n",
    "    result_df = result_df.append(_result_df)"
   ]
  },
  {
   "cell_type": "code",
   "execution_count": 16,
   "id": "diverse-retailer",
   "metadata": {},
   "outputs": [
    {
     "data": {
      "text/html": [
       "<div>\n",
       "<style scoped>\n",
       "    .dataframe tbody tr th:only-of-type {\n",
       "        vertical-align: middle;\n",
       "    }\n",
       "\n",
       "    .dataframe tbody tr th {\n",
       "        vertical-align: top;\n",
       "    }\n",
       "\n",
       "    .dataframe thead th {\n",
       "        text-align: right;\n",
       "    }\n",
       "</style>\n",
       "<table border=\"1\" class=\"dataframe\">\n",
       "  <thead>\n",
       "    <tr style=\"text-align: right;\">\n",
       "      <th></th>\n",
       "      <th>mean</th>\n",
       "      <th>std</th>\n",
       "      <th>min</th>\n",
       "      <th>max</th>\n",
       "      <th>run</th>\n",
       "    </tr>\n",
       "  </thead>\n",
       "  <tbody>\n",
       "    <tr>\n",
       "      <th>generation_0</th>\n",
       "      <td>0.177565</td>\n",
       "      <td>4.032243</td>\n",
       "      <td>0.023504</td>\n",
       "      <td>16.083988</td>\n",
       "      <td>1</td>\n",
       "    </tr>\n",
       "    <tr>\n",
       "      <th>generation_1</th>\n",
       "      <td>1.137166</td>\n",
       "      <td>4.073159</td>\n",
       "      <td>0.023504</td>\n",
       "      <td>16.083988</td>\n",
       "      <td>1</td>\n",
       "    </tr>\n",
       "    <tr>\n",
       "      <th>generation_2</th>\n",
       "      <td>3.758880</td>\n",
       "      <td>4.288919</td>\n",
       "      <td>0.023504</td>\n",
       "      <td>23.253435</td>\n",
       "      <td>1</td>\n",
       "    </tr>\n",
       "    <tr>\n",
       "      <th>generation_3</th>\n",
       "      <td>6.568982</td>\n",
       "      <td>4.216727</td>\n",
       "      <td>0.023504</td>\n",
       "      <td>23.253435</td>\n",
       "      <td>1</td>\n",
       "    </tr>\n",
       "    <tr>\n",
       "      <th>generation_4</th>\n",
       "      <td>5.617637</td>\n",
       "      <td>4.180952</td>\n",
       "      <td>0.023504</td>\n",
       "      <td>23.253435</td>\n",
       "      <td>1</td>\n",
       "    </tr>\n",
       "    <tr>\n",
       "      <th>...</th>\n",
       "      <td>...</td>\n",
       "      <td>...</td>\n",
       "      <td>...</td>\n",
       "      <td>...</td>\n",
       "      <td>...</td>\n",
       "    </tr>\n",
       "    <tr>\n",
       "      <th>generation_95</th>\n",
       "      <td>132.989345</td>\n",
       "      <td>92.096583</td>\n",
       "      <td>0.006157</td>\n",
       "      <td>225.999826</td>\n",
       "      <td>1</td>\n",
       "    </tr>\n",
       "    <tr>\n",
       "      <th>generation_96</th>\n",
       "      <td>118.986998</td>\n",
       "      <td>91.320920</td>\n",
       "      <td>0.030018</td>\n",
       "      <td>226.970216</td>\n",
       "      <td>1</td>\n",
       "    </tr>\n",
       "    <tr>\n",
       "      <th>generation_97</th>\n",
       "      <td>208.956695</td>\n",
       "      <td>91.198246</td>\n",
       "      <td>0.022578</td>\n",
       "      <td>226.970216</td>\n",
       "      <td>1</td>\n",
       "    </tr>\n",
       "    <tr>\n",
       "      <th>generation_98</th>\n",
       "      <td>223.331427</td>\n",
       "      <td>91.990286</td>\n",
       "      <td>0.022578</td>\n",
       "      <td>226.970216</td>\n",
       "      <td>1</td>\n",
       "    </tr>\n",
       "    <tr>\n",
       "      <th>generation_99</th>\n",
       "      <td>0.347211</td>\n",
       "      <td>92.609893</td>\n",
       "      <td>0.022578</td>\n",
       "      <td>226.970216</td>\n",
       "      <td>1</td>\n",
       "    </tr>\n",
       "  </tbody>\n",
       "</table>\n",
       "<p>100 rows × 5 columns</p>\n",
       "</div>"
      ],
      "text/plain": [
       "                     mean        std       min         max  run\n",
       "generation_0     0.177565   4.032243  0.023504   16.083988    1\n",
       "generation_1     1.137166   4.073159  0.023504   16.083988    1\n",
       "generation_2     3.758880   4.288919  0.023504   23.253435    1\n",
       "generation_3     6.568982   4.216727  0.023504   23.253435    1\n",
       "generation_4     5.617637   4.180952  0.023504   23.253435    1\n",
       "...                   ...        ...       ...         ...  ...\n",
       "generation_95  132.989345  92.096583  0.006157  225.999826    1\n",
       "generation_96  118.986998  91.320920  0.030018  226.970216    1\n",
       "generation_97  208.956695  91.198246  0.022578  226.970216    1\n",
       "generation_98  223.331427  91.990286  0.022578  226.970216    1\n",
       "generation_99    0.347211  92.609893  0.022578  226.970216    1\n",
       "\n",
       "[100 rows x 5 columns]"
      ]
     },
     "execution_count": 16,
     "metadata": {},
     "output_type": "execute_result"
    }
   ],
   "source": [
    "result_df"
   ]
  },
  {
   "cell_type": "code",
   "execution_count": 17,
   "id": "together-montana",
   "metadata": {},
   "outputs": [],
   "source": [
    "result_df = result_df.set_axis([i for i in range(len(result_df))])"
   ]
  },
  {
   "cell_type": "code",
   "execution_count": 18,
   "id": "gross-vision",
   "metadata": {},
   "outputs": [],
   "source": [
    "result_df.index.name = 'generations'"
   ]
  },
  {
   "cell_type": "code",
   "execution_count": 19,
   "id": "relative-reason",
   "metadata": {},
   "outputs": [
    {
     "data": {
      "text/html": [
       "<div>\n",
       "<style scoped>\n",
       "    .dataframe tbody tr th:only-of-type {\n",
       "        vertical-align: middle;\n",
       "    }\n",
       "\n",
       "    .dataframe tbody tr th {\n",
       "        vertical-align: top;\n",
       "    }\n",
       "\n",
       "    .dataframe thead th {\n",
       "        text-align: right;\n",
       "    }\n",
       "</style>\n",
       "<table border=\"1\" class=\"dataframe\">\n",
       "  <thead>\n",
       "    <tr style=\"text-align: right;\">\n",
       "      <th></th>\n",
       "      <th>mean</th>\n",
       "      <th>std</th>\n",
       "      <th>min</th>\n",
       "      <th>max</th>\n",
       "      <th>run</th>\n",
       "    </tr>\n",
       "    <tr>\n",
       "      <th>generations</th>\n",
       "      <th></th>\n",
       "      <th></th>\n",
       "      <th></th>\n",
       "      <th></th>\n",
       "      <th></th>\n",
       "    </tr>\n",
       "  </thead>\n",
       "  <tbody>\n",
       "    <tr>\n",
       "      <th>0</th>\n",
       "      <td>0.177565</td>\n",
       "      <td>4.032243</td>\n",
       "      <td>0.023504</td>\n",
       "      <td>16.083988</td>\n",
       "      <td>1</td>\n",
       "    </tr>\n",
       "    <tr>\n",
       "      <th>1</th>\n",
       "      <td>1.137166</td>\n",
       "      <td>4.073159</td>\n",
       "      <td>0.023504</td>\n",
       "      <td>16.083988</td>\n",
       "      <td>1</td>\n",
       "    </tr>\n",
       "    <tr>\n",
       "      <th>2</th>\n",
       "      <td>3.758880</td>\n",
       "      <td>4.288919</td>\n",
       "      <td>0.023504</td>\n",
       "      <td>23.253435</td>\n",
       "      <td>1</td>\n",
       "    </tr>\n",
       "    <tr>\n",
       "      <th>3</th>\n",
       "      <td>6.568982</td>\n",
       "      <td>4.216727</td>\n",
       "      <td>0.023504</td>\n",
       "      <td>23.253435</td>\n",
       "      <td>1</td>\n",
       "    </tr>\n",
       "    <tr>\n",
       "      <th>4</th>\n",
       "      <td>5.617637</td>\n",
       "      <td>4.180952</td>\n",
       "      <td>0.023504</td>\n",
       "      <td>23.253435</td>\n",
       "      <td>1</td>\n",
       "    </tr>\n",
       "    <tr>\n",
       "      <th>...</th>\n",
       "      <td>...</td>\n",
       "      <td>...</td>\n",
       "      <td>...</td>\n",
       "      <td>...</td>\n",
       "      <td>...</td>\n",
       "    </tr>\n",
       "    <tr>\n",
       "      <th>95</th>\n",
       "      <td>132.989345</td>\n",
       "      <td>92.096583</td>\n",
       "      <td>0.006157</td>\n",
       "      <td>225.999826</td>\n",
       "      <td>1</td>\n",
       "    </tr>\n",
       "    <tr>\n",
       "      <th>96</th>\n",
       "      <td>118.986998</td>\n",
       "      <td>91.320920</td>\n",
       "      <td>0.030018</td>\n",
       "      <td>226.970216</td>\n",
       "      <td>1</td>\n",
       "    </tr>\n",
       "    <tr>\n",
       "      <th>97</th>\n",
       "      <td>208.956695</td>\n",
       "      <td>91.198246</td>\n",
       "      <td>0.022578</td>\n",
       "      <td>226.970216</td>\n",
       "      <td>1</td>\n",
       "    </tr>\n",
       "    <tr>\n",
       "      <th>98</th>\n",
       "      <td>223.331427</td>\n",
       "      <td>91.990286</td>\n",
       "      <td>0.022578</td>\n",
       "      <td>226.970216</td>\n",
       "      <td>1</td>\n",
       "    </tr>\n",
       "    <tr>\n",
       "      <th>99</th>\n",
       "      <td>0.347211</td>\n",
       "      <td>92.609893</td>\n",
       "      <td>0.022578</td>\n",
       "      <td>226.970216</td>\n",
       "      <td>1</td>\n",
       "    </tr>\n",
       "  </tbody>\n",
       "</table>\n",
       "<p>100 rows × 5 columns</p>\n",
       "</div>"
      ],
      "text/plain": [
       "                   mean        std       min         max  run\n",
       "generations                                                  \n",
       "0              0.177565   4.032243  0.023504   16.083988    1\n",
       "1              1.137166   4.073159  0.023504   16.083988    1\n",
       "2              3.758880   4.288919  0.023504   23.253435    1\n",
       "3              6.568982   4.216727  0.023504   23.253435    1\n",
       "4              5.617637   4.180952  0.023504   23.253435    1\n",
       "...                 ...        ...       ...         ...  ...\n",
       "95           132.989345  92.096583  0.006157  225.999826    1\n",
       "96           118.986998  91.320920  0.030018  226.970216    1\n",
       "97           208.956695  91.198246  0.022578  226.970216    1\n",
       "98           223.331427  91.990286  0.022578  226.970216    1\n",
       "99             0.347211  92.609893  0.022578  226.970216    1\n",
       "\n",
       "[100 rows x 5 columns]"
      ]
     },
     "execution_count": 19,
     "metadata": {},
     "output_type": "execute_result"
    }
   ],
   "source": [
    "result_df"
   ]
  },
  {
   "cell_type": "code",
   "execution_count": 20,
   "id": "emotional-morocco",
   "metadata": {},
   "outputs": [
    {
     "data": {
      "image/png": "[encoded data removed]",
      "text/plain": [
       "<Figure size 432x288 with 1 Axes>"
      ]
     },
     "metadata": {
      "needs_background": "light"
     },
     "output_type": "display_data"
    }
   ],
   "source": [
    "ax = sns.lineplot(x=result_df.T.columns, y=result_df['mean'], markers=True, dashes=True)\n",
    "ax.set(ylabel='Average distance to target position')\n",
    "sns.set(rc={'figure.figsize':(15,9)})\n",
    "ax.figure.savefig(\"output.png\")\n",
    "plt.show()"
   ]
  },
  {
   "cell_type": "code",
   "execution_count": 21,
   "id": "armed-thunder",
   "metadata": {},
   "outputs": [
    {
     "data": {
      "text/html": [
       "<div>\n",
       "<style scoped>\n",
       "    .dataframe tbody tr th:only-of-type {\n",
       "        vertical-align: middle;\n",
       "    }\n",
       "\n",
       "    .dataframe tbody tr th {\n",
       "        vertical-align: top;\n",
       "    }\n",
       "\n",
       "    .dataframe thead th {\n",
       "        text-align: right;\n",
       "    }\n",
       "</style>\n",
       "<table border=\"1\" class=\"dataframe\">\n",
       "  <thead>\n",
       "    <tr style=\"text-align: right;\">\n",
       "      <th></th>\n",
       "      <th>mean</th>\n",
       "      <th>std</th>\n",
       "      <th>min</th>\n",
       "      <th>max</th>\n",
       "      <th>run</th>\n",
       "    </tr>\n",
       "    <tr>\n",
       "      <th>generations</th>\n",
       "      <th></th>\n",
       "      <th></th>\n",
       "      <th></th>\n",
       "      <th></th>\n",
       "      <th></th>\n",
       "    </tr>\n",
       "  </thead>\n",
       "  <tbody>\n",
       "    <tr>\n",
       "      <th>0</th>\n",
       "      <td>0.177565</td>\n",
       "      <td>4.032243</td>\n",
       "      <td>0.023504</td>\n",
       "      <td>16.083988</td>\n",
       "      <td>1</td>\n",
       "    </tr>\n",
       "    <tr>\n",
       "      <th>1</th>\n",
       "      <td>1.137166</td>\n",
       "      <td>4.073159</td>\n",
       "      <td>0.023504</td>\n",
       "      <td>16.083988</td>\n",
       "      <td>1</td>\n",
       "    </tr>\n",
       "  </tbody>\n",
       "</table>\n",
       "</div>"
      ],
      "text/plain": [
       "                 mean       std       min        max  run\n",
       "generations                                              \n",
       "0            0.177565  4.032243  0.023504  16.083988    1\n",
       "1            1.137166  4.073159  0.023504  16.083988    1"
      ]
     },
     "execution_count": 21,
     "metadata": {},
     "output_type": "execute_result"
    }
   ],
   "source": [
    "result_df.head(2)"
   ]
  },
  {
   "cell_type": "code",
   "execution_count": 22,
   "id": "hydraulic-catalyst",
   "metadata": {},
   "outputs": [
    {
     "data": {
      "text/plain": [
       "65    23.253435\n",
       "9     13.934956\n",
       "51    13.598255\n",
       "19    12.621812\n",
       "64    12.205789\n",
       "        ...    \n",
       "95     0.167363\n",
       "59     0.140927\n",
       "11     0.110447\n",
       "32     0.067974\n",
       "97     0.023504\n",
       "Name: generation_4, Length: 100, dtype: float64"
      ]
     },
     "execution_count": 22,
     "metadata": {},
     "output_type": "execute_result"
    }
   ],
   "source": [
    "fitness_df['generation_4'].sort_values(ascending=False)"
   ]
  },
  {
   "cell_type": "code",
   "execution_count": 23,
   "id": "statewide-luxury",
   "metadata": {},
   "outputs": [
    {
     "data": {
      "text/plain": [
       "0.1104471858671278"
      ]
     },
     "execution_count": 23,
     "metadata": {},
     "output_type": "execute_result"
    }
   ],
   "source": [
    "fitness_df['generation_4'][11]"
   ]
  },
  {
   "cell_type": "code",
   "execution_count": 24,
   "id": "domestic-taste",
   "metadata": {},
   "outputs": [
    {
     "data": {
      "text/plain": [
       "<AxesSubplot:xlabel='generations', ylabel='mean'>"
      ]
     },
     "execution_count": 24,
     "metadata": {},
     "output_type": "execute_result"
    },
    {
     "data": {
      "image/png": "[encoded data removed]",
      "text/plain": [
       "<Figure size 1080x648 with 1 Axes>"
      ]
     },
     "metadata": {},
     "output_type": "display_data"
    }
   ],
   "source": [
    "sns.lineplot(data=result_df, x='generations', y='mean', hue='run')"
   ]
  },
  {
   "cell_type": "code",
   "execution_count": 25,
   "id": "floating-major",
   "metadata": {},
   "outputs": [
    {
     "data": {
      "text/html": [
       "<div>\n",
       "<style scoped>\n",
       "    .dataframe tbody tr th:only-of-type {\n",
       "        vertical-align: middle;\n",
       "    }\n",
       "\n",
       "    .dataframe tbody tr th {\n",
       "        vertical-align: top;\n",
       "    }\n",
       "\n",
       "    .dataframe thead th {\n",
       "        text-align: right;\n",
       "    }\n",
       "</style>\n",
       "<table border=\"1\" class=\"dataframe\">\n",
       "  <thead>\n",
       "    <tr style=\"text-align: right;\">\n",
       "      <th></th>\n",
       "      <th>0</th>\n",
       "      <th>1</th>\n",
       "      <th>2</th>\n",
       "      <th>3</th>\n",
       "      <th>4</th>\n",
       "      <th>5</th>\n",
       "      <th>6</th>\n",
       "      <th>7</th>\n",
       "      <th>8</th>\n",
       "      <th>9</th>\n",
       "      <th>...</th>\n",
       "      <th>91</th>\n",
       "      <th>92</th>\n",
       "      <th>93</th>\n",
       "      <th>94</th>\n",
       "      <th>95</th>\n",
       "      <th>96</th>\n",
       "      <th>97</th>\n",
       "      <th>98</th>\n",
       "      <th>99</th>\n",
       "      <th>run</th>\n",
       "    </tr>\n",
       "  </thead>\n",
       "  <tbody>\n",
       "    <tr>\n",
       "      <th>0</th>\n",
       "      <td>0.177565</td>\n",
       "      <td>1.137166</td>\n",
       "      <td>3.758880</td>\n",
       "      <td>6.568982</td>\n",
       "      <td>5.617637</td>\n",
       "      <td>9.918378</td>\n",
       "      <td>10.102313</td>\n",
       "      <td>3.109004</td>\n",
       "      <td>6.299310</td>\n",
       "      <td>3.311060</td>\n",
       "      <td>...</td>\n",
       "      <td>214.096021</td>\n",
       "      <td>0.174840</td>\n",
       "      <td>9.945686</td>\n",
       "      <td>210.982901</td>\n",
       "      <td>132.989345</td>\n",
       "      <td>118.986998</td>\n",
       "      <td>208.956695</td>\n",
       "      <td>223.331427</td>\n",
       "      <td>0.347211</td>\n",
       "      <td>1.0</td>\n",
       "    </tr>\n",
       "    <tr>\n",
       "      <th>1</th>\n",
       "      <td>4.151559</td>\n",
       "      <td>0.639470</td>\n",
       "      <td>0.342769</td>\n",
       "      <td>6.048109</td>\n",
       "      <td>5.339631</td>\n",
       "      <td>4.379979</td>\n",
       "      <td>0.407676</td>\n",
       "      <td>12.169678</td>\n",
       "      <td>0.886717</td>\n",
       "      <td>0.545788</td>\n",
       "      <td>...</td>\n",
       "      <td>0.523406</td>\n",
       "      <td>1.020852</td>\n",
       "      <td>1.849377</td>\n",
       "      <td>166.252288</td>\n",
       "      <td>149.063304</td>\n",
       "      <td>34.726558</td>\n",
       "      <td>34.726558</td>\n",
       "      <td>2.494110</td>\n",
       "      <td>34.726558</td>\n",
       "      <td>1.0</td>\n",
       "    </tr>\n",
       "    <tr>\n",
       "      <th>2</th>\n",
       "      <td>13.934956</td>\n",
       "      <td>6.360280</td>\n",
       "      <td>7.338568</td>\n",
       "      <td>5.864879</td>\n",
       "      <td>0.358564</td>\n",
       "      <td>4.380194</td>\n",
       "      <td>0.493819</td>\n",
       "      <td>2.523653</td>\n",
       "      <td>8.936711</td>\n",
       "      <td>5.106343</td>\n",
       "      <td>...</td>\n",
       "      <td>221.335480</td>\n",
       "      <td>0.877849</td>\n",
       "      <td>0.174840</td>\n",
       "      <td>28.268552</td>\n",
       "      <td>1.146795</td>\n",
       "      <td>225.999826</td>\n",
       "      <td>217.898326</td>\n",
       "      <td>157.591055</td>\n",
       "      <td>3.177510</td>\n",
       "      <td>1.0</td>\n",
       "    </tr>\n",
       "    <tr>\n",
       "      <th>3</th>\n",
       "      <td>7.544362</td>\n",
       "      <td>0.342769</td>\n",
       "      <td>5.564557</td>\n",
       "      <td>2.638562</td>\n",
       "      <td>1.968565</td>\n",
       "      <td>0.029863</td>\n",
       "      <td>3.448842</td>\n",
       "      <td>4.830760</td>\n",
       "      <td>0.493819</td>\n",
       "      <td>6.826017</td>\n",
       "      <td>...</td>\n",
       "      <td>0.133242</td>\n",
       "      <td>179.458562</td>\n",
       "      <td>156.259410</td>\n",
       "      <td>3.772396</td>\n",
       "      <td>141.672935</td>\n",
       "      <td>3.772396</td>\n",
       "      <td>1.020852</td>\n",
       "      <td>0.833292</td>\n",
       "      <td>161.720346</td>\n",
       "      <td>1.0</td>\n",
       "    </tr>\n",
       "    <tr>\n",
       "      <th>4</th>\n",
       "      <td>6.600404</td>\n",
       "      <td>2.325571</td>\n",
       "      <td>1.350061</td>\n",
       "      <td>7.355613</td>\n",
       "      <td>0.521075</td>\n",
       "      <td>3.118731</td>\n",
       "      <td>6.467223</td>\n",
       "      <td>1.541237</td>\n",
       "      <td>7.414760</td>\n",
       "      <td>4.993651</td>\n",
       "      <td>...</td>\n",
       "      <td>0.702373</td>\n",
       "      <td>0.127895</td>\n",
       "      <td>218.849910</td>\n",
       "      <td>6.528822</td>\n",
       "      <td>95.932615</td>\n",
       "      <td>2.741234</td>\n",
       "      <td>223.331427</td>\n",
       "      <td>218.036970</td>\n",
       "      <td>0.022578</td>\n",
       "      <td>1.0</td>\n",
       "    </tr>\n",
       "    <tr>\n",
       "      <th>...</th>\n",
       "      <td>...</td>\n",
       "      <td>...</td>\n",
       "      <td>...</td>\n",
       "      <td>...</td>\n",
       "      <td>...</td>\n",
       "      <td>...</td>\n",
       "      <td>...</td>\n",
       "      <td>...</td>\n",
       "      <td>...</td>\n",
       "      <td>...</td>\n",
       "      <td>...</td>\n",
       "      <td>...</td>\n",
       "      <td>...</td>\n",
       "      <td>...</td>\n",
       "      <td>...</td>\n",
       "      <td>...</td>\n",
       "      <td>...</td>\n",
       "      <td>...</td>\n",
       "      <td>...</td>\n",
       "      <td>...</td>\n",
       "      <td>...</td>\n",
       "    </tr>\n",
       "    <tr>\n",
       "      <th>95</th>\n",
       "      <td>3.162069</td>\n",
       "      <td>0.869338</td>\n",
       "      <td>0.174147</td>\n",
       "      <td>3.252862</td>\n",
       "      <td>0.167363</td>\n",
       "      <td>0.493819</td>\n",
       "      <td>23.253435</td>\n",
       "      <td>0.811341</td>\n",
       "      <td>7.700323</td>\n",
       "      <td>0.917152</td>\n",
       "      <td>...</td>\n",
       "      <td>9.485068</td>\n",
       "      <td>17.682009</td>\n",
       "      <td>190.394361</td>\n",
       "      <td>0.877849</td>\n",
       "      <td>0.389835</td>\n",
       "      <td>218.849910</td>\n",
       "      <td>59.615294</td>\n",
       "      <td>131.884507</td>\n",
       "      <td>3.473799</td>\n",
       "      <td>1.0</td>\n",
       "    </tr>\n",
       "    <tr>\n",
       "      <th>96</th>\n",
       "      <td>3.059991</td>\n",
       "      <td>4.890854</td>\n",
       "      <td>0.593959</td>\n",
       "      <td>0.506545</td>\n",
       "      <td>4.956016</td>\n",
       "      <td>4.137585</td>\n",
       "      <td>2.111504</td>\n",
       "      <td>5.349404</td>\n",
       "      <td>5.781289</td>\n",
       "      <td>1.160055</td>\n",
       "      <td>...</td>\n",
       "      <td>166.252288</td>\n",
       "      <td>0.328981</td>\n",
       "      <td>92.489937</td>\n",
       "      <td>0.750187</td>\n",
       "      <td>100.561630</td>\n",
       "      <td>3.066408</td>\n",
       "      <td>209.895731</td>\n",
       "      <td>100.561630</td>\n",
       "      <td>218.627239</td>\n",
       "      <td>1.0</td>\n",
       "    </tr>\n",
       "    <tr>\n",
       "      <th>97</th>\n",
       "      <td>3.080959</td>\n",
       "      <td>6.604915</td>\n",
       "      <td>1.233499</td>\n",
       "      <td>5.617637</td>\n",
       "      <td>0.023504</td>\n",
       "      <td>2.491065</td>\n",
       "      <td>2.432751</td>\n",
       "      <td>6.691268</td>\n",
       "      <td>2.845041</td>\n",
       "      <td>11.646778</td>\n",
       "      <td>...</td>\n",
       "      <td>2.731703</td>\n",
       "      <td>0.259986</td>\n",
       "      <td>0.813455</td>\n",
       "      <td>92.489937</td>\n",
       "      <td>219.276443</td>\n",
       "      <td>212.380522</td>\n",
       "      <td>1.185078</td>\n",
       "      <td>208.766943</td>\n",
       "      <td>197.868771</td>\n",
       "      <td>1.0</td>\n",
       "    </tr>\n",
       "    <tr>\n",
       "      <th>98</th>\n",
       "      <td>5.313608</td>\n",
       "      <td>11.725933</td>\n",
       "      <td>13.702206</td>\n",
       "      <td>12.621812</td>\n",
       "      <td>4.099565</td>\n",
       "      <td>8.595984</td>\n",
       "      <td>3.252862</td>\n",
       "      <td>4.993651</td>\n",
       "      <td>5.106343</td>\n",
       "      <td>2.970879</td>\n",
       "      <td>...</td>\n",
       "      <td>0.673389</td>\n",
       "      <td>218.260195</td>\n",
       "      <td>101.341780</td>\n",
       "      <td>197.868771</td>\n",
       "      <td>0.877849</td>\n",
       "      <td>5.782283</td>\n",
       "      <td>141.275257</td>\n",
       "      <td>5.183557</td>\n",
       "      <td>225.593360</td>\n",
       "      <td>1.0</td>\n",
       "    </tr>\n",
       "    <tr>\n",
       "      <th>99</th>\n",
       "      <td>0.456095</td>\n",
       "      <td>0.449363</td>\n",
       "      <td>0.519135</td>\n",
       "      <td>8.185951</td>\n",
       "      <td>2.638562</td>\n",
       "      <td>6.568982</td>\n",
       "      <td>0.239189</td>\n",
       "      <td>11.936359</td>\n",
       "      <td>6.826017</td>\n",
       "      <td>1.722831</td>\n",
       "      <td>...</td>\n",
       "      <td>154.758688</td>\n",
       "      <td>149.034099</td>\n",
       "      <td>219.034699</td>\n",
       "      <td>183.880338</td>\n",
       "      <td>0.813455</td>\n",
       "      <td>0.389835</td>\n",
       "      <td>188.382860</td>\n",
       "      <td>152.398935</td>\n",
       "      <td>6.528822</td>\n",
       "      <td>1.0</td>\n",
       "    </tr>\n",
       "  </tbody>\n",
       "</table>\n",
       "<p>100 rows × 101 columns</p>\n",
       "</div>"
      ],
      "text/plain": [
       "            0          1          2          3         4         5          6  \\\n",
       "0    0.177565   1.137166   3.758880   6.568982  5.617637  9.918378  10.102313   \n",
       "1    4.151559   0.639470   0.342769   6.048109  5.339631  4.379979   0.407676   \n",
       "2   13.934956   6.360280   7.338568   5.864879  0.358564  4.380194   0.493819   \n",
       "3    7.544362   0.342769   5.564557   2.638562  1.968565  0.029863   3.448842   \n",
       "4    6.600404   2.325571   1.350061   7.355613  0.521075  3.118731   6.467223   \n",
       "..        ...        ...        ...        ...       ...       ...        ...   \n",
       "95   3.162069   0.869338   0.174147   3.252862  0.167363  0.493819  23.253435   \n",
       "96   3.059991   4.890854   0.593959   0.506545  4.956016  4.137585   2.111504   \n",
       "97   3.080959   6.604915   1.233499   5.617637  0.023504  2.491065   2.432751   \n",
       "98   5.313608  11.725933  13.702206  12.621812  4.099565  8.595984   3.252862   \n",
       "99   0.456095   0.449363   0.519135   8.185951  2.638562  6.568982   0.239189   \n",
       "\n",
       "            7         8          9  ...          91          92          93  \\\n",
       "0    3.109004  6.299310   3.311060  ...  214.096021    0.174840    9.945686   \n",
       "1   12.169678  0.886717   0.545788  ...    0.523406    1.020852    1.849377   \n",
       "2    2.523653  8.936711   5.106343  ...  221.335480    0.877849    0.174840   \n",
       "3    4.830760  0.493819   6.826017  ...    0.133242  179.458562  156.259410   \n",
       "4    1.541237  7.414760   4.993651  ...    0.702373    0.127895  218.849910   \n",
       "..        ...       ...        ...  ...         ...         ...         ...   \n",
       "95   0.811341  7.700323   0.917152  ...    9.485068   17.682009  190.394361   \n",
       "96   5.349404  5.781289   1.160055  ...  166.252288    0.328981   92.489937   \n",
       "97   6.691268  2.845041  11.646778  ...    2.731703    0.259986    0.813455   \n",
       "98   4.993651  5.106343   2.970879  ...    0.673389  218.260195  101.341780   \n",
       "99  11.936359  6.826017   1.722831  ...  154.758688  149.034099  219.034699   \n",
       "\n",
       "            94          95          96          97          98          99  \\\n",
       "0   210.982901  132.989345  118.986998  208.956695  223.331427    0.347211   \n",
       "1   166.252288  149.063304   34.726558   34.726558    2.494110   34.726558   \n",
       "2    28.268552    1.146795  225.999826  217.898326  157.591055    3.177510   \n",
       "3     3.772396  141.672935    3.772396    1.020852    0.833292  161.720346   \n",
       "4     6.528822   95.932615    2.741234  223.331427  218.036970    0.022578   \n",
       "..         ...         ...         ...         ...         ...         ...   \n",
       "95    0.877849    0.389835  218.849910   59.615294  131.884507    3.473799   \n",
       "96    0.750187  100.561630    3.066408  209.895731  100.561630  218.627239   \n",
       "97   92.489937  219.276443  212.380522    1.185078  208.766943  197.868771   \n",
       "98  197.868771    0.877849    5.782283  141.275257    5.183557  225.593360   \n",
       "99  183.880338    0.813455    0.389835  188.382860  152.398935    6.528822   \n",
       "\n",
       "    run  \n",
       "0   1.0  \n",
       "1   1.0  \n",
       "2   1.0  \n",
       "3   1.0  \n",
       "4   1.0  \n",
       "..  ...  \n",
       "95  1.0  \n",
       "96  1.0  \n",
       "97  1.0  \n",
       "98  1.0  \n",
       "99  1.0  \n",
       "\n",
       "[100 rows x 101 columns]"
      ]
     },
     "execution_count": 25,
     "metadata": {},
     "output_type": "execute_result"
    }
   ],
   "source": [
    "formated_fitness_df = cp.deepcopy(fitness_df)\n",
    "formated_fitness_df.set_axis([i for i in range(len(fitness_df.T))], axis=1, inplace=True)\n",
    "formated_fitness_df.rename(columns={len(fitness_df.T)-1 : 'run'}, inplace=True)\n",
    "formated_fitness_df"
   ]
  },
  {
   "cell_type": "code",
   "execution_count": 26,
   "id": "modified-radio",
   "metadata": {},
   "outputs": [
    {
     "data": {
      "text/html": [
       "<div>\n",
       "<style scoped>\n",
       "    .dataframe tbody tr th:only-of-type {\n",
       "        vertical-align: middle;\n",
       "    }\n",
       "\n",
       "    .dataframe tbody tr th {\n",
       "        vertical-align: top;\n",
       "    }\n",
       "\n",
       "    .dataframe thead th {\n",
       "        text-align: right;\n",
       "    }\n",
       "</style>\n",
       "<table border=\"1\" class=\"dataframe\">\n",
       "  <thead>\n",
       "    <tr style=\"text-align: right;\">\n",
       "      <th></th>\n",
       "      <th>run</th>\n",
       "      <th>generation</th>\n",
       "      <th>fitness</th>\n",
       "    </tr>\n",
       "  </thead>\n",
       "  <tbody>\n",
       "    <tr>\n",
       "      <th>0</th>\n",
       "      <td>1.0</td>\n",
       "      <td>0</td>\n",
       "      <td>0.177565</td>\n",
       "    </tr>\n",
       "    <tr>\n",
       "      <th>1</th>\n",
       "      <td>1.0</td>\n",
       "      <td>0</td>\n",
       "      <td>4.151559</td>\n",
       "    </tr>\n",
       "    <tr>\n",
       "      <th>2</th>\n",
       "      <td>1.0</td>\n",
       "      <td>0</td>\n",
       "      <td>13.934956</td>\n",
       "    </tr>\n",
       "  </tbody>\n",
       "</table>\n",
       "</div>"
      ],
      "text/plain": [
       "   run generation    fitness\n",
       "0  1.0          0   0.177565\n",
       "1  1.0          0   4.151559\n",
       "2  1.0          0  13.934956"
      ]
     },
     "execution_count": 26,
     "metadata": {},
     "output_type": "execute_result"
    }
   ],
   "source": [
    "melted_formated_fitness = formated_fitness_df.melt(id_vars='run')\n",
    "melted_formated_fitness.rename(columns={'variable':'generation', 'value':'fitness'}, inplace=True)\n",
    "melted_formated_fitness.head(3)"
   ]
  },
  {
   "cell_type": "code",
   "execution_count": 32,
   "id": "d796ef6d-f60a-4be8-b61a-3aea2b109951",
   "metadata": {},
   "outputs": [
    {
     "data": {
      "text/html": [
       "<div>\n",
       "<style scoped>\n",
       "    .dataframe tbody tr th:only-of-type {\n",
       "        vertical-align: middle;\n",
       "    }\n",
       "\n",
       "    .dataframe tbody tr th {\n",
       "        vertical-align: top;\n",
       "    }\n",
       "\n",
       "    .dataframe thead th {\n",
       "        text-align: right;\n",
       "    }\n",
       "</style>\n",
       "<table border=\"1\" class=\"dataframe\">\n",
       "  <thead>\n",
       "    <tr style=\"text-align: right;\">\n",
       "      <th></th>\n",
       "      <th>run</th>\n",
       "      <th>generation</th>\n",
       "      <th>fitness</th>\n",
       "    </tr>\n",
       "  </thead>\n",
       "  <tbody>\n",
       "    <tr>\n",
       "      <th>0</th>\n",
       "      <td>1.0</td>\n",
       "      <td>0</td>\n",
       "      <td>0.177565</td>\n",
       "    </tr>\n",
       "    <tr>\n",
       "      <th>1</th>\n",
       "      <td>1.0</td>\n",
       "      <td>0</td>\n",
       "      <td>4.151559</td>\n",
       "    </tr>\n",
       "    <tr>\n",
       "      <th>2</th>\n",
       "      <td>1.0</td>\n",
       "      <td>0</td>\n",
       "      <td>13.934956</td>\n",
       "    </tr>\n",
       "    <tr>\n",
       "      <th>3</th>\n",
       "      <td>1.0</td>\n",
       "      <td>0</td>\n",
       "      <td>7.544362</td>\n",
       "    </tr>\n",
       "    <tr>\n",
       "      <th>4</th>\n",
       "      <td>1.0</td>\n",
       "      <td>0</td>\n",
       "      <td>6.600404</td>\n",
       "    </tr>\n",
       "    <tr>\n",
       "      <th>...</th>\n",
       "      <td>...</td>\n",
       "      <td>...</td>\n",
       "      <td>...</td>\n",
       "    </tr>\n",
       "    <tr>\n",
       "      <th>9995</th>\n",
       "      <td>1.0</td>\n",
       "      <td>99</td>\n",
       "      <td>3.473799</td>\n",
       "    </tr>\n",
       "    <tr>\n",
       "      <th>9996</th>\n",
       "      <td>1.0</td>\n",
       "      <td>99</td>\n",
       "      <td>218.627239</td>\n",
       "    </tr>\n",
       "    <tr>\n",
       "      <th>9997</th>\n",
       "      <td>1.0</td>\n",
       "      <td>99</td>\n",
       "      <td>197.868771</td>\n",
       "    </tr>\n",
       "    <tr>\n",
       "      <th>9998</th>\n",
       "      <td>1.0</td>\n",
       "      <td>99</td>\n",
       "      <td>225.593360</td>\n",
       "    </tr>\n",
       "    <tr>\n",
       "      <th>9999</th>\n",
       "      <td>1.0</td>\n",
       "      <td>99</td>\n",
       "      <td>6.528822</td>\n",
       "    </tr>\n",
       "  </tbody>\n",
       "</table>\n",
       "<p>10000 rows × 3 columns</p>\n",
       "</div>"
      ],
      "text/plain": [
       "      run generation     fitness\n",
       "0     1.0          0    0.177565\n",
       "1     1.0          0    4.151559\n",
       "2     1.0          0   13.934956\n",
       "3     1.0          0    7.544362\n",
       "4     1.0          0    6.600404\n",
       "...   ...        ...         ...\n",
       "9995  1.0         99    3.473799\n",
       "9996  1.0         99  218.627239\n",
       "9997  1.0         99  197.868771\n",
       "9998  1.0         99  225.593360\n",
       "9999  1.0         99    6.528822\n",
       "\n",
       "[10000 rows x 3 columns]"
      ]
     },
     "execution_count": 32,
     "metadata": {},
     "output_type": "execute_result"
    }
   ],
   "source": [
    "melted_formated_fitn"
   ]
  },
  {
   "cell_type": "code",
   "execution_count": 27,
   "id": "disturbed-domestic",
   "metadata": {},
   "outputs": [
    {
     "data": {
      "text/plain": [
       "<AxesSubplot:xlabel='generation', ylabel='fitness'>"
      ]
     },
     "execution_count": 27,
     "metadata": {},
     "output_type": "execute_result"
    },
    {
     "data": {
      "image/png": "[encoded data removed]",
      "text/plain": [
       "<Figure size 1080x648 with 1 Axes>"
      ]
     },
     "metadata": {},
     "output_type": "display_data"
    }
   ],
   "source": [
    "sns.lineplot(data=melted_formated_fitness, x='generation', hue='run', y='fitness')"
   ]
  },
  {
   "cell_type": "code",
   "execution_count": 28,
   "id": "molecular-dialogue",
   "metadata": {},
   "outputs": [],
   "source": [
    "# TODO: create boxplots over individual performance"
   ]
  },
  {
   "cell_type": "code",
   "execution_count": 29,
   "id": "turned-exchange",
   "metadata": {},
   "outputs": [
    {
     "ename": "NameError",
     "evalue": "name 'fitness_run_1' is not defined",
     "output_type": "error",
     "traceback": [
      "\u001b[0;31m---------------------------------------------------------------------------\u001b[0m",
      "\u001b[0;31mNameError\u001b[0m                                 Traceback (most recent call last)",
      "\u001b[0;32m<ipython-input-29-9b57e90c0a89>\u001b[0m in \u001b[0;36m<module>\u001b[0;34m\u001b[0m\n\u001b[1;32m      4\u001b[0m     merged_gen = pd.merge(\n\u001b[1;32m      5\u001b[0m         \u001b[0mleft\u001b[0m\u001b[0;34m=\u001b[0m\u001b[0mval\u001b[0m\u001b[0;34m,\u001b[0m\u001b[0;34m\u001b[0m\u001b[0;34m\u001b[0m\u001b[0m\n\u001b[0;32m----> 6\u001b[0;31m         \u001b[0mright\u001b[0m\u001b[0;34m=\u001b[0m\u001b[0mfitness_run_1\u001b[0m\u001b[0;34m,\u001b[0m\u001b[0;34m\u001b[0m\u001b[0;34m\u001b[0m\u001b[0m\n\u001b[0m\u001b[1;32m      7\u001b[0m         \u001b[0mhow\u001b[0m\u001b[0;34m=\u001b[0m\u001b[0;34m\"inner\"\u001b[0m\u001b[0;34m,\u001b[0m\u001b[0;34m\u001b[0m\u001b[0;34m\u001b[0m\u001b[0m\n\u001b[1;32m      8\u001b[0m         \u001b[0mon\u001b[0m\u001b[0;34m=\u001b[0m\u001b[0;32mNone\u001b[0m\u001b[0;34m,\u001b[0m\u001b[0;34m\u001b[0m\u001b[0;34m\u001b[0m\u001b[0m\n",
      "\u001b[0;31mNameError\u001b[0m: name 'fitness_run_1' is not defined"
     ]
    }
   ],
   "source": [
    "fitness_mean = []\n",
    "fitness_std = []\n",
    "for i, val in enumerate(generation_identifiers):\n",
    "    merged_gen = pd.merge(\n",
    "        left=val,\n",
    "        right=fitness_run_1,\n",
    "        how=\"inner\",\n",
    "        on=None,\n",
    "        left_on=\"generation_\"+str(i),\n",
    "        right_on=\"Individual_ID\",\n",
    "        left_index=False,\n",
    "        right_index=False,\n",
    "        sort=True,\n",
    "        suffixes=(\"_x\", \"_y\"),\n",
    "        copy=True,\n",
    "        indicator=False,\n",
    "        validate=None,\n",
    "    )\n",
    "    gen_mean = merged_gen[\"Distance to Target\"].mean()  \n",
    "    gen_std = merged_gen[\"Distance to Target\"].std()\n",
    "    fitness_mean.append(gen_mean)\n",
    "    fitness_std.append(gen_mean)"
   ]
  },
  {
   "cell_type": "code",
   "execution_count": 30,
   "id": "dietary-affairs",
   "metadata": {},
   "outputs": [],
   "source": [
    "import matplotlib.pyplot as plt"
   ]
  },
  {
   "cell_type": "code",
   "execution_count": 31,
   "id": "described-medline",
   "metadata": {},
   "outputs": [
    {
     "data": {
      "image/png": "[encoded data removed]",
      "text/plain": [
       "<Figure size 1080x648 with 1 Axes>"
      ]
     },
     "metadata": {},
     "output_type": "display_data"
    }
   ],
   "source": [
    "plt.errorbar(list(range(1,len(fitness_mean)+1)), fitness_mean, fitness_std,linestyle='None', marker='^')\n",
    "plt.show()"
   ]
  },
  {
   "cell_type": "code",
   "execution_count": 692,
   "id": "available-finnish",
   "metadata": {},
   "outputs": [
    {
     "data": {
      "text/plain": [
       "-19.270146693442285"
      ]
     },
     "execution_count": 692,
     "metadata": {},
     "output_type": "execute_result"
    }
   ],
   "source": [
    "max((result_df['max']))"
   ]
  },
  {
   "cell_type": "code",
   "execution_count": 717,
   "id": "iraqi-metropolitan",
   "metadata": {},
   "outputs": [
    {
     "data": {
      "text/plain": [
       "Individual_ID         41.00000\n",
       "Distance to Target   -19.07879\n",
       "Name: 40, dtype: float64"
      ]
     },
     "execution_count": 717,
     "metadata": {},
     "output_type": "execute_result"
    }
   ],
   "source": []
  },
  {
   "cell_type": "code",
   "execution_count": 748,
   "id": "abstract-visibility",
   "metadata": {},
   "outputs": [
    {
     "data": {
      "text/html": [
       "<div>\n",
       "<style scoped>\n",
       "    .dataframe tbody tr th:only-of-type {\n",
       "        vertical-align: middle;\n",
       "    }\n",
       "\n",
       "    .dataframe tbody tr th {\n",
       "        vertical-align: top;\n",
       "    }\n",
       "\n",
       "    .dataframe thead th {\n",
       "        text-align: right;\n",
       "    }\n",
       "</style>\n",
       "<table border=\"1\" class=\"dataframe\">\n",
       "  <thead>\n",
       "    <tr style=\"text-align: right;\">\n",
       "      <th></th>\n",
       "      <th>Individual_ID</th>\n",
       "      <th>Distance to Target</th>\n",
       "    </tr>\n",
       "  </thead>\n",
       "  <tbody>\n",
       "    <tr>\n",
       "      <th>40</th>\n",
       "      <td>41.0</td>\n",
       "      <td>-19.078790</td>\n",
       "    </tr>\n",
       "    <tr>\n",
       "      <th>40</th>\n",
       "      <td>41.0</td>\n",
       "      <td>-20.099967</td>\n",
       "    </tr>\n",
       "    <tr>\n",
       "      <th>40</th>\n",
       "      <td>41.0</td>\n",
       "      <td>-20.092420</td>\n",
       "    </tr>\n",
       "  </tbody>\n",
       "</table>\n",
       "</div>"
      ],
      "text/plain": [
       "    Individual_ID  Distance to Target\n",
       "40           41.0          -19.078790\n",
       "40           41.0          -20.099967\n",
       "40           41.0          -20.092420"
      ]
     },
     "execution_count": 748,
     "metadata": {},
     "output_type": "execute_result"
    }
   ],
   "source": []
  },
  {
   "cell_type": "code",
   "execution_count": 750,
   "id": "foster-apparel",
   "metadata": {},
   "outputs": [],
   "source": [
    "run_1_best = fitness_run_1.T[40]\n",
    "run_2_best = fitness_run_2.T[40]\n",
    "run_3_best = fitness_run_3.T[40]\n"
   ]
  },
  {
   "cell_type": "code",
   "execution_count": 753,
   "id": "specialized-minister",
   "metadata": {},
   "outputs": [],
   "source": [
    "run_1_best['run'] = 1\n",
    "run_2_best['run'] = 2\n",
    "run_3_best['run'] = 3"
   ]
  },
  {
   "cell_type": "code",
   "execution_count": 754,
   "id": "injured-dairy",
   "metadata": {},
   "outputs": [],
   "source": [
    "best_pheno_df = pd.DataFrame(run_1_best).T.append(run_2_best).append(run_3_best)"
   ]
  },
  {
   "cell_type": "code",
   "execution_count": 784,
   "id": "anticipated-shame",
   "metadata": {},
   "outputs": [],
   "source": [
    "best_pheno_df = best_pheno_df.reset_index(drop=True)"
   ]
  },
  {
   "cell_type": "code",
   "execution_count": 760,
   "id": "efficient-clarity",
   "metadata": {},
   "outputs": [],
   "source": [
    "best = best_pheno_df['Distance to Target'].mean()\n",
    "std = best_pheno_df['Distance to Target'].std()"
   ]
  },
  {
   "cell_type": "code",
   "execution_count": 785,
   "id": "peripheral-passenger",
   "metadata": {},
   "outputs": [
    {
     "data": {
      "text/plain": [
       "0   -19.078790\n",
       "1   -20.099967\n",
       "2   -20.092420\n",
       "Name: Distance to Target, dtype: float64"
      ]
     },
     "execution_count": 785,
     "metadata": {},
     "output_type": "execute_result"
    }
   ],
   "source": [
    "fit = best_pheno_df['Distance to Target']\n",
    "fit"
   ]
  },
  {
   "cell_type": "code",
   "execution_count": 807,
   "id": "sexual-monthly",
   "metadata": {},
   "outputs": [
    {
     "data": {
      "image/png": "[encoded data removed]",
      "text/plain": [
       "<Figure size 1080x648 with 1 Axes>"
      ]
     },
     "metadata": {},
     "output_type": "display_data"
    }
   ],
   "source": [
    "ax = sns.boxplot(data=best_pheno_df['Distance to Target'])\n",
    "ax.set(xlabel='Best Phenotype over 3 runs (ID: 41)')\n",
    "ax.figure.savefig('best_phenotype_41.png')"
   ]
  },
  {
   "cell_type": "code",
   "execution_count": null,
   "id": "facial-friendship",
   "metadata": {},
   "outputs": [],
   "source": []
  }
 ],
 "metadata": {
  "kernelspec": {
   "display_name": "Python 3",
   "language": "python",
   "name": "python3"
  },
  "language_info": {
   "codemirror_mode": {
    "name": "ipython",
    "version": 3
   },
   "file_extension": ".py",
   "mimetype": "text/x-python",
   "name": "python",
   "nbconvert_exporter": "python",
   "pygments_lexer": "ipython3",
   "version": "3.9.2"
  }
 },
 "nbformat": 4,
 "nbformat_minor": 5
}
