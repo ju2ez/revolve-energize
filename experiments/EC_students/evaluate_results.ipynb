{
 "cells": [
  {
   "cell_type": "code",
   "execution_count": 524,
   "id": "theoretical-national",
   "metadata": {},
   "outputs": [],
   "source": [
    "import pandas as pd\n",
    "import numpy as np\n",
    "import copy as cp\n",
    "import matplotlib.pyplot as plt\n",
    "import seaborn as sns\n",
    "import os\n",
    "from natsort import natsorted, ns"
   ]
  },
  {
   "cell_type": "code",
   "execution_count": 23,
   "id": "centered-expert",
   "metadata": {},
   "outputs": [
    {
     "data": {
      "text/plain": [
       "'\\nA script to evaulate an experiment and create plots accoringly. \\n\\n'"
      ]
     },
     "execution_count": 23,
     "metadata": {},
     "output_type": "execute_result"
    }
   ],
   "source": [
    "\"\"\"\n",
    "A script to evaulate an experiment and create plots accoringly. \n",
    "\n",
    "\"\"\""
   ]
  },
  {
   "cell_type": "code",
   "execution_count": 127,
   "id": "sudden-defendant",
   "metadata": {},
   "outputs": [
    {
     "ename": "FileNotFoundError",
     "evalue": "[Errno 2] No such file or directory: './data/serious-exp/'",
     "output_type": "error",
     "traceback": [
      "\u001b[0;31m---------------------------------------------------------------------------\u001b[0m",
      "\u001b[0;31mFileNotFoundError\u001b[0m                         Traceback (most recent call last)",
      "\u001b[0;32m<ipython-input-127-c06f6e143e33>\u001b[0m in \u001b[0;36m<module>\u001b[0;34m\u001b[0m\n\u001b[1;32m      1\u001b[0m \u001b[0;31m#set experiment folder as root dir of this script\u001b[0m\u001b[0;34m\u001b[0m\u001b[0;34m\u001b[0m\u001b[0;34m\u001b[0m\u001b[0m\n\u001b[1;32m      2\u001b[0m \u001b[0mexperiment_folder\u001b[0m \u001b[0;34m=\u001b[0m \u001b[0;34m\"./data/serious-exp/\"\u001b[0m\u001b[0;34m\u001b[0m\u001b[0;34m\u001b[0m\u001b[0m\n\u001b[0;32m----> 3\u001b[0;31m \u001b[0mos\u001b[0m\u001b[0;34m.\u001b[0m\u001b[0mchdir\u001b[0m\u001b[0;34m(\u001b[0m\u001b[0mexperiment_folder\u001b[0m\u001b[0;34m)\u001b[0m\u001b[0;34m\u001b[0m\u001b[0;34m\u001b[0m\u001b[0m\n\u001b[0m",
      "\u001b[0;31mFileNotFoundError\u001b[0m: [Errno 2] No such file or directory: './data/serious-exp/'"
     ]
    }
   ],
   "source": [
    "#set experiment folder as root dir of this script\n",
    "experiment_folder = \"./data/serious-exp/\"\n",
    "os.chdir(experiment_folder)"
   ]
  },
  {
   "cell_type": "code",
   "execution_count": 210,
   "id": "confidential-niagara",
   "metadata": {},
   "outputs": [],
   "source": [
    "#set hyperparameters \n",
    "num_generations = 20\n",
    "population_size = 20 \n",
    "num_runs = 20\n",
    "\n",
    "\n",
    "    "
   ]
  },
  {
   "cell_type": "code",
   "execution_count": 249,
   "id": "separated-immune",
   "metadata": {},
   "outputs": [],
   "source": [
    "df = pd.DataFrame()\n",
    "generation_identifiers = {}\n",
    "\n",
    "for run in sorted(os.listdir(\".\")):\n",
    "    if run[0].isdigit():\n",
    "        #only use the run dirs \n",
    "        for filename in natsorted(os.listdir(\"./\"+run+\"/generations\")):\n",
    "            _generation_ids = pd.read_csv(\"./\"+run+\"/generations/\"+filename+\"/identifiers.txt\", header=None)\n",
    "            _generation_ids.rename({0: filename}, axis=1, inplace=True)\n",
    "            if not f\"{run}\" in generation_identifiers:\n",
    "                generation_identifiers[f\"{run}\"] = []\n",
    "            generation_identifiers[f\"{run}\"].append(_generation_ids)"
   ]
  },
  {
   "cell_type": "code",
   "execution_count": 255,
   "id": "likely-montana",
   "metadata": {},
   "outputs": [
    {
     "data": {
      "text/html": [
       "<div>\n",
       "<style scoped>\n",
       "    .dataframe tbody tr th:only-of-type {\n",
       "        vertical-align: middle;\n",
       "    }\n",
       "\n",
       "    .dataframe tbody tr th {\n",
       "        vertical-align: top;\n",
       "    }\n",
       "\n",
       "    .dataframe thead th {\n",
       "        text-align: right;\n",
       "    }\n",
       "</style>\n",
       "<table border=\"1\" class=\"dataframe\">\n",
       "  <thead>\n",
       "    <tr style=\"text-align: right;\">\n",
       "      <th></th>\n",
       "      <th>generation_0</th>\n",
       "    </tr>\n",
       "  </thead>\n",
       "  <tbody>\n",
       "    <tr>\n",
       "      <th>0</th>\n",
       "      <td>1</td>\n",
       "    </tr>\n",
       "    <tr>\n",
       "      <th>1</th>\n",
       "      <td>2</td>\n",
       "    </tr>\n",
       "    <tr>\n",
       "      <th>2</th>\n",
       "      <td>3</td>\n",
       "    </tr>\n",
       "  </tbody>\n",
       "</table>\n",
       "</div>"
      ],
      "text/plain": [
       "   generation_0\n",
       "0             1\n",
       "1             2\n",
       "2             3"
      ]
     },
     "execution_count": 255,
     "metadata": {},
     "output_type": "execute_result"
    }
   ],
   "source": [
    "#contains the information about the phenotype ID of each generation\n",
    "generation_identifiers['1'][0].head(3)"
   ]
  },
  {
   "cell_type": "code",
   "execution_count": 256,
   "id": "virtual-speed",
   "metadata": {},
   "outputs": [],
   "source": [
    "runs = {}\n",
    "for run in range(1, num_runs+1):\n",
    "    # cause run starts with 1 \n",
    "    df = pd.DataFrame()\n",
    "    for generation in range(num_generations):\n",
    "        df = df.append(generation_identifiers[f\"{run}\"][generation][f\"generation_{generation}\"])\n",
    "    runs[f\"{run}\"] = df"
   ]
  },
  {
   "cell_type": "code",
   "execution_count": 259,
   "id": "regional-driver",
   "metadata": {},
   "outputs": [],
   "source": [
    "fitness_values = {}\n",
    "\n",
    "for run in range(1, num_runs+1):\n",
    "    fitness_values[f\"{run}\"] = pd.read_csv(f\"{run}/data_fullevolution/fitness.csv\", header=None)\n",
    "    fitness_values[f\"{run}\"].rename({0:\"Individual_ID\", 1:\"Distance to Target\"}, axis=1, inplace=True)"
   ]
  },
  {
   "cell_type": "code",
   "execution_count": 441,
   "id": "stylish-channel",
   "metadata": {},
   "outputs": [],
   "source": [
    "# no exchange the phenotype ID with the fitness value \n",
    "fitness_df = pd.DataFrame()\n",
    "for _run in runs:\n",
    "    run_df = runs[_run]\n",
    "    _fitness_df = cp.deepcopy(run_df.T)\n",
    "    for gen in run_df.T:\n",
    "        for index in range(len(run_df)):\n",
    "            individual = int((_fitness_df[gen][int(index)]))\n",
    "            fitness_value = fitness_values[str(_run)].T[(individual)]['Distance to Target']\n",
    "            _fitness_df[gen][index] = fitness_value\n",
    "            \n",
    "    cur_run = np.ndarray(shape=(len(_fitness_df)))\n",
    "    cur_run.fill(int(_run))\n",
    "    _fitness_df['run'] = cur_run\n",
    "\n",
    "    fitness_df = fitness_df.append(_fitness_df)"
   ]
  },
  {
   "cell_type": "code",
   "execution_count": 529,
   "id": "gross-upset",
   "metadata": {},
   "outputs": [
    {
     "data": {
      "text/html": [
       "<div>\n",
       "<style scoped>\n",
       "    .dataframe tbody tr th:only-of-type {\n",
       "        vertical-align: middle;\n",
       "    }\n",
       "\n",
       "    .dataframe tbody tr th {\n",
       "        vertical-align: top;\n",
       "    }\n",
       "\n",
       "    .dataframe thead th {\n",
       "        text-align: right;\n",
       "    }\n",
       "</style>\n",
       "<table border=\"1\" class=\"dataframe\">\n",
       "  <thead>\n",
       "    <tr style=\"text-align: right;\">\n",
       "      <th></th>\n",
       "      <th>generation_0</th>\n",
       "      <th>generation_1</th>\n",
       "      <th>generation_2</th>\n",
       "      <th>generation_3</th>\n",
       "      <th>generation_4</th>\n",
       "      <th>generation_5</th>\n",
       "      <th>generation_6</th>\n",
       "      <th>generation_7</th>\n",
       "      <th>generation_8</th>\n",
       "      <th>generation_9</th>\n",
       "      <th>...</th>\n",
       "      <th>generation_11</th>\n",
       "      <th>generation_12</th>\n",
       "      <th>generation_13</th>\n",
       "      <th>generation_14</th>\n",
       "      <th>generation_15</th>\n",
       "      <th>generation_16</th>\n",
       "      <th>generation_17</th>\n",
       "      <th>generation_18</th>\n",
       "      <th>generation_19</th>\n",
       "      <th>run</th>\n",
       "    </tr>\n",
       "  </thead>\n",
       "  <tbody>\n",
       "    <tr>\n",
       "      <th>0</th>\n",
       "      <td>4.611881e+07</td>\n",
       "      <td>200733.149153</td>\n",
       "      <td>2.111755e+01</td>\n",
       "      <td>1.900998e+02</td>\n",
       "      <td>1.432972e+05</td>\n",
       "      <td>2.182207e+01</td>\n",
       "      <td>9.831969e+01</td>\n",
       "      <td>1.751831e+17</td>\n",
       "      <td>1.751831e+17</td>\n",
       "      <td>1.751831e+17</td>\n",
       "      <td>...</td>\n",
       "      <td>1.751831e+17</td>\n",
       "      <td>1.751831e+17</td>\n",
       "      <td>1.751831e+17</td>\n",
       "      <td>1.751831e+17</td>\n",
       "      <td>1.751831e+17</td>\n",
       "      <td>1.751831e+17</td>\n",
       "      <td>1.751831e+17</td>\n",
       "      <td>1.751831e+17</td>\n",
       "      <td>1.751831e+17</td>\n",
       "      <td>1.0</td>\n",
       "    </tr>\n",
       "    <tr>\n",
       "      <th>1</th>\n",
       "      <td>2.658426e+01</td>\n",
       "      <td>220709.034857</td>\n",
       "      <td>6.098058e+04</td>\n",
       "      <td>6.619260e+01</td>\n",
       "      <td>3.984509e+01</td>\n",
       "      <td>1.839518e+01</td>\n",
       "      <td>1.751831e+17</td>\n",
       "      <td>1.303740e+08</td>\n",
       "      <td>1.178151e+07</td>\n",
       "      <td>1.751831e+17</td>\n",
       "      <td>...</td>\n",
       "      <td>3.343155e+01</td>\n",
       "      <td>4.591040e+07</td>\n",
       "      <td>1.751831e+17</td>\n",
       "      <td>1.751831e+17</td>\n",
       "      <td>1.751831e+17</td>\n",
       "      <td>7.181909e+07</td>\n",
       "      <td>3.744039e+06</td>\n",
       "      <td>6.401493e+01</td>\n",
       "      <td>1.751831e+17</td>\n",
       "      <td>1.0</td>\n",
       "    </tr>\n",
       "    <tr>\n",
       "      <th>2</th>\n",
       "      <td>1.879372e+02</td>\n",
       "      <td>9.756048</td>\n",
       "      <td>1.751831e+17</td>\n",
       "      <td>4.442892e+01</td>\n",
       "      <td>1.378536e+02</td>\n",
       "      <td>4.056707e+04</td>\n",
       "      <td>7.434960e+01</td>\n",
       "      <td>3.057512e+05</td>\n",
       "      <td>4.436826e+07</td>\n",
       "      <td>1.416866e+07</td>\n",
       "      <td>...</td>\n",
       "      <td>4.076750e+01</td>\n",
       "      <td>4.551528e+07</td>\n",
       "      <td>1.751831e+17</td>\n",
       "      <td>1.751831e+17</td>\n",
       "      <td>1.751831e+17</td>\n",
       "      <td>1.751831e+17</td>\n",
       "      <td>8.452887e+01</td>\n",
       "      <td>6.444491e+01</td>\n",
       "      <td>4.201204e+07</td>\n",
       "      <td>1.0</td>\n",
       "    </tr>\n",
       "    <tr>\n",
       "      <th>3</th>\n",
       "      <td>3.721740e+01</td>\n",
       "      <td>57.523816</td>\n",
       "      <td>2.293211e+05</td>\n",
       "      <td>1.751831e+17</td>\n",
       "      <td>1.751831e+17</td>\n",
       "      <td>4.313441e+07</td>\n",
       "      <td>1.751831e+17</td>\n",
       "      <td>5.741621e+01</td>\n",
       "      <td>1.751831e+17</td>\n",
       "      <td>4.410677e+03</td>\n",
       "      <td>...</td>\n",
       "      <td>1.751831e+17</td>\n",
       "      <td>1.102461e+04</td>\n",
       "      <td>1.751831e+17</td>\n",
       "      <td>1.468538e+07</td>\n",
       "      <td>1.751831e+17</td>\n",
       "      <td>1.751831e+17</td>\n",
       "      <td>9.556238e+00</td>\n",
       "      <td>1.751831e+17</td>\n",
       "      <td>1.751831e+17</td>\n",
       "      <td>1.0</td>\n",
       "    </tr>\n",
       "    <tr>\n",
       "      <th>4</th>\n",
       "      <td>7.818810e+01</td>\n",
       "      <td>212.750038</td>\n",
       "      <td>3.293716e+03</td>\n",
       "      <td>2.754660e+02</td>\n",
       "      <td>1.751831e+17</td>\n",
       "      <td>6.395132e+05</td>\n",
       "      <td>1.751831e+17</td>\n",
       "      <td>1.751831e+17</td>\n",
       "      <td>1.751831e+17</td>\n",
       "      <td>1.751831e+17</td>\n",
       "      <td>...</td>\n",
       "      <td>1.751831e+17</td>\n",
       "      <td>1.751831e+17</td>\n",
       "      <td>1.751831e+17</td>\n",
       "      <td>1.751831e+17</td>\n",
       "      <td>1.751831e+17</td>\n",
       "      <td>1.751831e+17</td>\n",
       "      <td>1.751831e+17</td>\n",
       "      <td>1.751831e+17</td>\n",
       "      <td>1.233063e+02</td>\n",
       "      <td>1.0</td>\n",
       "    </tr>\n",
       "  </tbody>\n",
       "</table>\n",
       "<p>5 rows × 21 columns</p>\n",
       "</div>"
      ],
      "text/plain": [
       "   generation_0   generation_1  generation_2  generation_3  generation_4  \\\n",
       "0  4.611881e+07  200733.149153  2.111755e+01  1.900998e+02  1.432972e+05   \n",
       "1  2.658426e+01  220709.034857  6.098058e+04  6.619260e+01  3.984509e+01   \n",
       "2  1.879372e+02       9.756048  1.751831e+17  4.442892e+01  1.378536e+02   \n",
       "3  3.721740e+01      57.523816  2.293211e+05  1.751831e+17  1.751831e+17   \n",
       "4  7.818810e+01     212.750038  3.293716e+03  2.754660e+02  1.751831e+17   \n",
       "\n",
       "   generation_5  generation_6  generation_7  generation_8  generation_9  ...  \\\n",
       "0  2.182207e+01  9.831969e+01  1.751831e+17  1.751831e+17  1.751831e+17  ...   \n",
       "1  1.839518e+01  1.751831e+17  1.303740e+08  1.178151e+07  1.751831e+17  ...   \n",
       "2  4.056707e+04  7.434960e+01  3.057512e+05  4.436826e+07  1.416866e+07  ...   \n",
       "3  4.313441e+07  1.751831e+17  5.741621e+01  1.751831e+17  4.410677e+03  ...   \n",
       "4  6.395132e+05  1.751831e+17  1.751831e+17  1.751831e+17  1.751831e+17  ...   \n",
       "\n",
       "   generation_11  generation_12  generation_13  generation_14  generation_15  \\\n",
       "0   1.751831e+17   1.751831e+17   1.751831e+17   1.751831e+17   1.751831e+17   \n",
       "1   3.343155e+01   4.591040e+07   1.751831e+17   1.751831e+17   1.751831e+17   \n",
       "2   4.076750e+01   4.551528e+07   1.751831e+17   1.751831e+17   1.751831e+17   \n",
       "3   1.751831e+17   1.102461e+04   1.751831e+17   1.468538e+07   1.751831e+17   \n",
       "4   1.751831e+17   1.751831e+17   1.751831e+17   1.751831e+17   1.751831e+17   \n",
       "\n",
       "   generation_16  generation_17  generation_18  generation_19  run  \n",
       "0   1.751831e+17   1.751831e+17   1.751831e+17   1.751831e+17  1.0  \n",
       "1   7.181909e+07   3.744039e+06   6.401493e+01   1.751831e+17  1.0  \n",
       "2   1.751831e+17   8.452887e+01   6.444491e+01   4.201204e+07  1.0  \n",
       "3   1.751831e+17   9.556238e+00   1.751831e+17   1.751831e+17  1.0  \n",
       "4   1.751831e+17   1.751831e+17   1.751831e+17   1.233063e+02  1.0  \n",
       "\n",
       "[5 rows x 21 columns]"
      ]
     },
     "execution_count": 529,
     "metadata": {},
     "output_type": "execute_result"
    }
   ],
   "source": [
    "fitness_df.head(5)"
   ]
  },
  {
   "cell_type": "code",
   "execution_count": 520,
   "id": "earlier-happiness",
   "metadata": {},
   "outputs": [],
   "source": [
    "mean_dic = {}\n",
    "std_dic = {}\n",
    "min_dic = {}\n",
    "max_dic = {}\n",
    "\n",
    "for run in range(num_runs):\n",
    "    for gen in fitness_df:\n",
    "        mean_dic[gen] = fitness_df[gen].mean()\n",
    "        std_dic[gen] = fitness_df[gen].std()\n",
    "        min_dic[gen] = fitness_df[gen].min()\n",
    "        max_dic[gen] = fitness_df[gen].max()\n",
    "        \n",
    "    \n",
    "mean_df = pd.DataFrame(mean_dic, index=[0]).rename({0:\"mean\"})\n",
    "std_df =  pd.DataFrame(std_dic, index=[0]).rename({0:\"std\"})\n",
    "min_df =  pd.DataFrame(min_dic, index=[0]).rename({0:\"min\"})\n",
    "max_df =  pd.DataFrame(max_dic, index=[0]).rename({0:\"max\"})   \n",
    "result_df = mean_df.append(std_df).append(min_df).append(max_df).T"
   ]
  },
  {
   "cell_type": "code",
   "execution_count": 521,
   "id": "several-newsletter",
   "metadata": {},
   "outputs": [
    {
     "data": {
      "text/html": [
       "<div>\n",
       "<style scoped>\n",
       "    .dataframe tbody tr th:only-of-type {\n",
       "        vertical-align: middle;\n",
       "    }\n",
       "\n",
       "    .dataframe tbody tr th {\n",
       "        vertical-align: top;\n",
       "    }\n",
       "\n",
       "    .dataframe thead th {\n",
       "        text-align: right;\n",
       "    }\n",
       "</style>\n",
       "<table border=\"1\" class=\"dataframe\">\n",
       "  <thead>\n",
       "    <tr style=\"text-align: right;\">\n",
       "      <th></th>\n",
       "      <th>mean</th>\n",
       "      <th>std</th>\n",
       "      <th>min</th>\n",
       "      <th>max</th>\n",
       "    </tr>\n",
       "  </thead>\n",
       "  <tbody>\n",
       "    <tr>\n",
       "      <th>generation_0</th>\n",
       "      <td>2.452563e+15</td>\n",
       "      <td>2.058748e+16</td>\n",
       "      <td>7.727590</td>\n",
       "      <td>1.751831e+17</td>\n",
       "    </tr>\n",
       "    <tr>\n",
       "      <th>generation_1</th>\n",
       "      <td>3.240887e+15</td>\n",
       "      <td>2.361194e+16</td>\n",
       "      <td>1.000000</td>\n",
       "      <td>1.751831e+17</td>\n",
       "    </tr>\n",
       "    <tr>\n",
       "      <th>generation_2</th>\n",
       "      <td>4.729943e+15</td>\n",
       "      <td>2.840135e+16</td>\n",
       "      <td>1.000000</td>\n",
       "      <td>1.751831e+17</td>\n",
       "    </tr>\n",
       "    <tr>\n",
       "      <th>generation_3</th>\n",
       "      <td>5.255492e+15</td>\n",
       "      <td>2.989146e+16</td>\n",
       "      <td>1.000000</td>\n",
       "      <td>1.751831e+17</td>\n",
       "    </tr>\n",
       "    <tr>\n",
       "      <th>generation_4</th>\n",
       "      <td>8.058421e+15</td>\n",
       "      <td>3.670742e+16</td>\n",
       "      <td>1.000000</td>\n",
       "      <td>1.751831e+17</td>\n",
       "    </tr>\n",
       "    <tr>\n",
       "      <th>generation_5</th>\n",
       "      <td>1.086135e+16</td>\n",
       "      <td>4.225693e+16</td>\n",
       "      <td>1.000000</td>\n",
       "      <td>1.751831e+17</td>\n",
       "    </tr>\n",
       "    <tr>\n",
       "      <th>generation_6</th>\n",
       "      <td>1.103653e+16</td>\n",
       "      <td>4.257364e+16</td>\n",
       "      <td>1.000000</td>\n",
       "      <td>1.751831e+17</td>\n",
       "    </tr>\n",
       "    <tr>\n",
       "      <th>generation_7</th>\n",
       "      <td>1.094894e+16</td>\n",
       "      <td>4.241567e+16</td>\n",
       "      <td>4.000000</td>\n",
       "      <td>1.751831e+17</td>\n",
       "    </tr>\n",
       "    <tr>\n",
       "      <th>generation_8</th>\n",
       "      <td>1.261318e+16</td>\n",
       "      <td>4.529403e+16</td>\n",
       "      <td>7.610591</td>\n",
       "      <td>1.751831e+17</td>\n",
       "    </tr>\n",
       "    <tr>\n",
       "      <th>generation_9</th>\n",
       "      <td>1.454019e+16</td>\n",
       "      <td>4.834198e+16</td>\n",
       "      <td>11.106702</td>\n",
       "      <td>1.751831e+17</td>\n",
       "    </tr>\n",
       "    <tr>\n",
       "      <th>generation_10</th>\n",
       "      <td>1.559129e+16</td>\n",
       "      <td>4.989476e+16</td>\n",
       "      <td>6.071623</td>\n",
       "      <td>1.751831e+17</td>\n",
       "    </tr>\n",
       "    <tr>\n",
       "      <th>generation_11</th>\n",
       "      <td>1.778108e+16</td>\n",
       "      <td>5.291670e+16</td>\n",
       "      <td>7.418716</td>\n",
       "      <td>1.751831e+17</td>\n",
       "    </tr>\n",
       "    <tr>\n",
       "      <th>generation_12</th>\n",
       "      <td>1.953291e+16</td>\n",
       "      <td>5.515271e+16</td>\n",
       "      <td>3.048823</td>\n",
       "      <td>1.751831e+17</td>\n",
       "    </tr>\n",
       "    <tr>\n",
       "      <th>generation_13</th>\n",
       "      <td>2.032123e+16</td>\n",
       "      <td>5.611201e+16</td>\n",
       "      <td>4.588571</td>\n",
       "      <td>1.751831e+17</td>\n",
       "    </tr>\n",
       "    <tr>\n",
       "      <th>generation_14</th>\n",
       "      <td>2.084678e+16</td>\n",
       "      <td>5.673645e+16</td>\n",
       "      <td>9.469613</td>\n",
       "      <td>1.751831e+17</td>\n",
       "    </tr>\n",
       "    <tr>\n",
       "      <th>generation_15</th>\n",
       "      <td>2.242343e+16</td>\n",
       "      <td>5.854151e+16</td>\n",
       "      <td>7.712326</td>\n",
       "      <td>1.751831e+17</td>\n",
       "    </tr>\n",
       "    <tr>\n",
       "      <th>generation_16</th>\n",
       "      <td>2.277380e+16</td>\n",
       "      <td>5.892940e+16</td>\n",
       "      <td>7.498380</td>\n",
       "      <td>1.751831e+17</td>\n",
       "    </tr>\n",
       "    <tr>\n",
       "      <th>generation_17</th>\n",
       "      <td>2.224825e+16</td>\n",
       "      <td>5.834581e+16</td>\n",
       "      <td>7.498380</td>\n",
       "      <td>1.751831e+17</td>\n",
       "    </tr>\n",
       "    <tr>\n",
       "      <th>generation_18</th>\n",
       "      <td>2.251102e+16</td>\n",
       "      <td>5.863892e+16</td>\n",
       "      <td>9.161504</td>\n",
       "      <td>1.751831e+17</td>\n",
       "    </tr>\n",
       "    <tr>\n",
       "      <th>generation_19</th>\n",
       "      <td>2.364971e+16</td>\n",
       "      <td>5.987915e+16</td>\n",
       "      <td>6.888887</td>\n",
       "      <td>1.751831e+17</td>\n",
       "    </tr>\n",
       "    <tr>\n",
       "      <th>run</th>\n",
       "      <td>1.050000e+01</td>\n",
       "      <td>5.767723e+00</td>\n",
       "      <td>1.000000</td>\n",
       "      <td>2.000000e+01</td>\n",
       "    </tr>\n",
       "  </tbody>\n",
       "</table>\n",
       "</div>"
      ],
      "text/plain": [
       "                       mean           std        min           max\n",
       "generation_0   2.452563e+15  2.058748e+16   7.727590  1.751831e+17\n",
       "generation_1   3.240887e+15  2.361194e+16   1.000000  1.751831e+17\n",
       "generation_2   4.729943e+15  2.840135e+16   1.000000  1.751831e+17\n",
       "generation_3   5.255492e+15  2.989146e+16   1.000000  1.751831e+17\n",
       "generation_4   8.058421e+15  3.670742e+16   1.000000  1.751831e+17\n",
       "generation_5   1.086135e+16  4.225693e+16   1.000000  1.751831e+17\n",
       "generation_6   1.103653e+16  4.257364e+16   1.000000  1.751831e+17\n",
       "generation_7   1.094894e+16  4.241567e+16   4.000000  1.751831e+17\n",
       "generation_8   1.261318e+16  4.529403e+16   7.610591  1.751831e+17\n",
       "generation_9   1.454019e+16  4.834198e+16  11.106702  1.751831e+17\n",
       "generation_10  1.559129e+16  4.989476e+16   6.071623  1.751831e+17\n",
       "generation_11  1.778108e+16  5.291670e+16   7.418716  1.751831e+17\n",
       "generation_12  1.953291e+16  5.515271e+16   3.048823  1.751831e+17\n",
       "generation_13  2.032123e+16  5.611201e+16   4.588571  1.751831e+17\n",
       "generation_14  2.084678e+16  5.673645e+16   9.469613  1.751831e+17\n",
       "generation_15  2.242343e+16  5.854151e+16   7.712326  1.751831e+17\n",
       "generation_16  2.277380e+16  5.892940e+16   7.498380  1.751831e+17\n",
       "generation_17  2.224825e+16  5.834581e+16   7.498380  1.751831e+17\n",
       "generation_18  2.251102e+16  5.863892e+16   9.161504  1.751831e+17\n",
       "generation_19  2.364971e+16  5.987915e+16   6.888887  1.751831e+17\n",
       "run            1.050000e+01  5.767723e+00   1.000000  2.000000e+01"
      ]
     },
     "execution_count": 521,
     "metadata": {},
     "output_type": "execute_result"
    }
   ],
   "source": [
    "result_df"
   ]
  },
  {
   "cell_type": "code",
   "execution_count": 522,
   "id": "horizontal-billion",
   "metadata": {},
   "outputs": [
    {
     "data": {
      "text/plain": [
       "Index(['generation_0', 'generation_1', 'generation_2', 'generation_3',\n",
       "       'generation_4', 'generation_5', 'generation_6', 'generation_7',\n",
       "       'generation_8', 'generation_9', 'generation_10', 'generation_11',\n",
       "       'generation_12', 'generation_13', 'generation_14', 'generation_15',\n",
       "       'generation_16', 'generation_17', 'generation_18', 'generation_19',\n",
       "       'run'],\n",
       "      dtype='object')"
      ]
     },
     "execution_count": 522,
     "metadata": {},
     "output_type": "execute_result"
    }
   ],
   "source": [
    "result_df.T.columns"
   ]
  },
  {
   "cell_type": "code",
   "execution_count": 525,
   "id": "robust-isaac",
   "metadata": {},
   "outputs": [
    {
     "data": {
      "image/png": "[encoded data removed]",
      "text/plain": [
       "<Figure size 1080x648 with 1 Axes>"
      ]
     },
     "metadata": {},
     "output_type": "display_data"
    }
   ],
   "source": [
    "ax = sns.lineplot(x=result_df.T.columns, y=result_df['mean'], markers=True, dashes=True)\n",
    "ax.set(ylabel='Average distance to target position')\n",
    "sns.set(rc={'figure.figsize':(15,9)})\n",
    "ax.figure.savefig(\"output.png\")\n",
    "plt.show()\n"
   ]
  },
  {
   "cell_type": "code",
   "execution_count": 528,
   "id": "martial-cowboy",
   "metadata": {},
   "outputs": [
    {
     "data": {
      "text/plain": [
       "<AxesSubplot:>"
      ]
     },
     "execution_count": 528,
     "metadata": {},
     "output_type": "execute_result"
    },
    {
     "data": {
      "image/png": "[encoded data removed]",
      "text/plain": [
       "<Figure size 1080x648 with 1 Axes>"
      ]
     },
     "metadata": {},
     "output_type": "display_data"
    }
   ],
   "source": [
    "sns.lineplot(data=result_df)"
   ]
  },
  {
   "cell_type": "code",
   "execution_count": 855,
   "id": "careful-bacteria",
   "metadata": {},
   "outputs": [
    {
     "ename": "KeyError",
     "evalue": "'generation_0'",
     "output_type": "error",
     "traceback": [
      "\u001b[0;31m--------------------------\u001b[0m",
      "\u001b[0;31mKeyError\u001b[0mTraceback (most recent call last)",
      "\u001b[0;32m<ipython-input-855-9b57e90c0a89>\u001b[0m in \u001b[0;36m<module>\u001b[0;34m\u001b[0m\n\u001b[1;32m      2\u001b[0m \u001b[0mfitness_std\u001b[0m \u001b[0;34m=\u001b[0m \u001b[0;34m[\u001b[0m\u001b[0;34m]\u001b[0m\u001b[0;34m\u001b[0m\u001b[0;34m\u001b[0m\u001b[0m\n\u001b[1;32m      3\u001b[0m \u001b[0;32mfor\u001b[0m \u001b[0mi\u001b[0m\u001b[0;34m,\u001b[0m \u001b[0mval\u001b[0m \u001b[0;32min\u001b[0m \u001b[0menumerate\u001b[0m\u001b[0;34m(\u001b[0m\u001b[0mgeneration_identifiers\u001b[0m\u001b[0;34m)\u001b[0m\u001b[0;34m:\u001b[0m\u001b[0;34m\u001b[0m\u001b[0;34m\u001b[0m\u001b[0m\n\u001b[0;32m----> 4\u001b[0;31m     merged_gen = pd.merge(\n\u001b[0m\u001b[1;32m      5\u001b[0m         \u001b[0mleft\u001b[0m\u001b[0;34m=\u001b[0m\u001b[0mval\u001b[0m\u001b[0;34m,\u001b[0m\u001b[0;34m\u001b[0m\u001b[0;34m\u001b[0m\u001b[0m\n\u001b[1;32m      6\u001b[0m         \u001b[0mright\u001b[0m\u001b[0;34m=\u001b[0m\u001b[0mfitness_run_1\u001b[0m\u001b[0;34m,\u001b[0m\u001b[0;34m\u001b[0m\u001b[0;34m\u001b[0m\u001b[0m\n",
      "\u001b[0;32m~/Programs/miniconda3/envs/jupyter-laboratory/lib/python3.9/site-packages/pandas/core/reshape/merge.py\u001b[0m in \u001b[0;36mmerge\u001b[0;34m(left, right, how, on, left_on, right_on, left_index, right_index, sort, suffixes, copy, indicator, validate)\u001b[0m\n\u001b[1;32m     72\u001b[0m     \u001b[0mvalidate\u001b[0m\u001b[0;34m=\u001b[0m\u001b[0;32mNone\u001b[0m\u001b[0;34m,\u001b[0m\u001b[0;34m\u001b[0m\u001b[0;34m\u001b[0m\u001b[0m\n\u001b[1;32m     73\u001b[0m ) -> \"DataFrame\":\n\u001b[0;32m---> 74\u001b[0;31m     op = _MergeOperation(\n\u001b[0m\u001b[1;32m     75\u001b[0m         \u001b[0mleft\u001b[0m\u001b[0;34m,\u001b[0m\u001b[0;34m\u001b[0m\u001b[0;34m\u001b[0m\u001b[0m\n\u001b[1;32m     76\u001b[0m         \u001b[0mright\u001b[0m\u001b[0;34m,\u001b[0m\u001b[0;34m\u001b[0m\u001b[0;34m\u001b[0m\u001b[0m\n",
      "\u001b[0;32m~/Programs/miniconda3/envs/jupyter-laboratory/lib/python3.9/site-packages/pandas/core/reshape/merge.py\u001b[0m in \u001b[0;36m__init__\u001b[0;34m(self, left, right, how, on, left_on, right_on, axis, left_index, right_index, sort, suffixes, copy, indicator, validate)\u001b[0m\n\u001b[1;32m    666\u001b[0m             \u001b[0mself\u001b[0m\u001b[0;34m.\u001b[0m\u001b[0mright_join_keys\u001b[0m\u001b[0;34m,\u001b[0m\u001b[0;34m\u001b[0m\u001b[0;34m\u001b[0m\u001b[0m\n\u001b[1;32m    667\u001b[0m             \u001b[0mself\u001b[0m\u001b[0;34m.\u001b[0m\u001b[0mjoin_names\u001b[0m\u001b[0;34m,\u001b[0m\u001b[0;34m\u001b[0m\u001b[0;34m\u001b[0m\u001b[0m\n\u001b[0;32m--> 668\u001b[0;31m         ) = self._get_merge_keys()\n\u001b[0m\u001b[1;32m    669\u001b[0m \u001b[0;34m\u001b[0m\u001b[0m\n\u001b[1;32m    670\u001b[0m         \u001b[0;31m# validate the merge keys dtypes. We may need to coerce\u001b[0m\u001b[0;34m\u001b[0m\u001b[0;34m\u001b[0m\u001b[0;34m\u001b[0m\u001b[0m\n",
      "\u001b[0;32m~/Programs/miniconda3/envs/jupyter-laboratory/lib/python3.9/site-packages/pandas/core/reshape/merge.py\u001b[0m in \u001b[0;36m_get_merge_keys\u001b[0;34m(self)\u001b[0m\n\u001b[1;32m   1044\u001b[0m                         \u001b[0mright_keys\u001b[0m\u001b[0;34m.\u001b[0m\u001b[0mappend\u001b[0m\u001b[0;34m(\u001b[0m\u001b[0mrk\u001b[0m\u001b[0;34m)\u001b[0m\u001b[0;34m\u001b[0m\u001b[0;34m\u001b[0m\u001b[0m\n\u001b[1;32m   1045\u001b[0m                     \u001b[0;32mif\u001b[0m \u001b[0mlk\u001b[0m \u001b[0;32mis\u001b[0m \u001b[0;32mnot\u001b[0m \u001b[0;32mNone\u001b[0m\u001b[0;34m:\u001b[0m\u001b[0;34m\u001b[0m\u001b[0;34m\u001b[0m\u001b[0m\n\u001b[0;32m-> 1046\u001b[0;31m                         \u001b[0mleft_keys\u001b[0m\u001b[0;34m.\u001b[0m\u001b[0mappend\u001b[0m\u001b[0;34m(\u001b[0m\u001b[0mleft\u001b[0m\u001b[0;34m.\u001b[0m\u001b[0m_get_label_or_level_values\u001b[0m\u001b[0;34m(\u001b[0m\u001b[0mlk\u001b[0m\u001b[0;34m)\u001b[0m\u001b[0;34m)\u001b[0m\u001b[0;34m\u001b[0m\u001b[0;34m\u001b[0m\u001b[0m\n\u001b[0m\u001b[1;32m   1047\u001b[0m                         \u001b[0mjoin_names\u001b[0m\u001b[0;34m.\u001b[0m\u001b[0mappend\u001b[0m\u001b[0;34m(\u001b[0m\u001b[0mlk\u001b[0m\u001b[0;34m)\u001b[0m\u001b[0;34m\u001b[0m\u001b[0;34m\u001b[0m\u001b[0m\n\u001b[1;32m   1048\u001b[0m                     \u001b[0;32melse\u001b[0m\u001b[0;34m:\u001b[0m\u001b[0;34m\u001b[0m\u001b[0;34m\u001b[0m\u001b[0m\n",
      "\u001b[0;32m~/Programs/miniconda3/envs/jupyter-laboratory/lib/python3.9/site-packages/pandas/core/generic.py\u001b[0m in \u001b[0;36m_get_label_or_level_values\u001b[0;34m(self, key, axis)\u001b[0m\n\u001b[1;32m   1682\u001b[0m             \u001b[0mvalues\u001b[0m \u001b[0;34m=\u001b[0m \u001b[0mself\u001b[0m\u001b[0;34m.\u001b[0m\u001b[0maxes\u001b[0m\u001b[0;34m[\u001b[0m\u001b[0maxis\u001b[0m\u001b[0;34m]\u001b[0m\u001b[0;34m.\u001b[0m\u001b[0mget_level_values\u001b[0m\u001b[0;34m(\u001b[0m\u001b[0mkey\u001b[0m\u001b[0;34m)\u001b[0m\u001b[0;34m.\u001b[0m\u001b[0m_values\u001b[0m\u001b[0;34m\u001b[0m\u001b[0;34m\u001b[0m\u001b[0m\n\u001b[1;32m   1683\u001b[0m         \u001b[0;32melse\u001b[0m\u001b[0;34m:\u001b[0m\u001b[0;34m\u001b[0m\u001b[0;34m\u001b[0m\u001b[0m\n\u001b[0;32m-> 1684\u001b[0;31m             \u001b[0;32mraise\u001b[0m \u001b[0mKeyError\u001b[0m\u001b[0;34m(\u001b[0m\u001b[0mkey\u001b[0m\u001b[0;34m)\u001b[0m\u001b[0;34m\u001b[0m\u001b[0;34m\u001b[0m\u001b[0m\n\u001b[0m\u001b[1;32m   1685\u001b[0m \u001b[0;34m\u001b[0m\u001b[0m\n\u001b[1;32m   1686\u001b[0m         \u001b[0;31m# Check for duplicates\u001b[0m\u001b[0;34m\u001b[0m\u001b[0;34m\u001b[0m\u001b[0;34m\u001b[0m\u001b[0m\n",
      "\u001b[0;31mKeyError\u001b[0m: 'generation_0'"
     ]
    }
   ],
   "source": [
    "fitness_mean = []\n",
    "fitness_std = []\n",
    "for i, val in enumerate(generation_identifiers):\n",
    "    merged_gen = pd.merge(\n",
    "        left=val,\n",
    "        right=fitness_run_1,\n",
    "        how=\"inner\",\n",
    "        on=None,\n",
    "        left_on=\"generation_\"+str(i),\n",
    "        right_on=\"Individual_ID\",\n",
    "        left_index=False,\n",
    "        right_index=False,\n",
    "        sort=True,\n",
    "        suffixes=(\"_x\", \"_y\"),\n",
    "        copy=True,\n",
    "        indicator=False,\n",
    "        validate=None,\n",
    "    )\n",
    "    gen_mean = merged_gen[\"Distance to Target\"].mean()  \n",
    "    gen_std = merged_gen[\"Distance to Target\"].std()\n",
    "    fitness_mean.append(gen_mean)\n",
    "    fitness_std.append(gen_mean)"
   ]
  },
  {
   "cell_type": "code",
   "execution_count": 856,
   "id": "bound-words",
   "metadata": {},
   "outputs": [],
   "source": [
    "import matplotlib.pyplot as plt"
   ]
  },
  {
   "cell_type": "code",
   "execution_count": 129,
   "id": "brilliant-crowd",
   "metadata": {},
   "outputs": [
    {
     "data": {
      "image/png": "[encoded data removed]",
      "text/plain": [
       "<Figure size 432x288 with 1 Axes>"
      ]
     },
     "metadata": {
      "needs_background": "light"
     },
     "output_type": "display_data"
    }
   ],
   "source": [
    "plt.errorbar(list(range(1,len(fitness_mean)+1)), fitness_mean, fitness_std,linestyle='None', marker='^')\n",
    "plt.show()"
   ]
  },
  {
   "cell_type": "code",
   "execution_count": 692,
   "id": "psychological-airfare",
   "metadata": {},
   "outputs": [
    {
     "data": {
      "text/plain": [
       "-19.270146693442285"
      ]
     },
     "execution_count": 692,
     "metadata": {},
     "output_type": "execute_result"
    }
   ],
   "source": [
    "max((result_df['max']))"
   ]
  },
  {
   "cell_type": "code",
   "execution_count": 717,
   "id": "juvenile-prediction",
   "metadata": {},
   "outputs": [
    {
     "data": {
      "text/plain": [
       "Individual_ID         41.00000\n",
       "Distance to Target   -19.07879\n",
       "Name: 40, dtype: float64"
      ]
     },
     "execution_count": 717,
     "metadata": {},
     "output_type": "execute_result"
    }
   ],
   "source": []
  },
  {
   "cell_type": "code",
   "execution_count": 748,
   "id": "amazing-township",
   "metadata": {},
   "outputs": [
    {
     "data": {
      "text/html": [
       "<div>\n",
       "<style scoped>\n",
       "    .dataframe tbody tr th:only-of-type {\n",
       "        vertical-align: middle;\n",
       "    }\n",
       "\n",
       "    .dataframe tbody tr th {\n",
       "        vertical-align: top;\n",
       "    }\n",
       "\n",
       "    .dataframe thead th {\n",
       "        text-align: right;\n",
       "    }\n",
       "</style>\n",
       "<table border=\"1\" class=\"dataframe\">\n",
       "  <thead>\n",
       "    <tr style=\"text-align: right;\">\n",
       "      <th></th>\n",
       "      <th>Individual_ID</th>\n",
       "      <th>Distance to Target</th>\n",
       "    </tr>\n",
       "  </thead>\n",
       "  <tbody>\n",
       "    <tr>\n",
       "      <th>40</th>\n",
       "      <td>41.0</td>\n",
       "      <td>-19.078790</td>\n",
       "    </tr>\n",
       "    <tr>\n",
       "      <th>40</th>\n",
       "      <td>41.0</td>\n",
       "      <td>-20.099967</td>\n",
       "    </tr>\n",
       "    <tr>\n",
       "      <th>40</th>\n",
       "      <td>41.0</td>\n",
       "      <td>-20.092420</td>\n",
       "    </tr>\n",
       "  </tbody>\n",
       "</table>\n",
       "</div>"
      ],
      "text/plain": [
       "    Individual_ID  Distance to Target\n",
       "40           41.0          -19.078790\n",
       "40           41.0          -20.099967\n",
       "40           41.0          -20.092420"
      ]
     },
     "execution_count": 748,
     "metadata": {},
     "output_type": "execute_result"
    }
   ],
   "source": []
  },
  {
   "cell_type": "code",
   "execution_count": 750,
   "id": "solar-student",
   "metadata": {},
   "outputs": [],
   "source": [
    "run_1_best = fitness_run_1.T[40]\n",
    "run_2_best = fitness_run_2.T[40]\n",
    "run_3_best = fitness_run_3.T[40]\n"
   ]
  },
  {
   "cell_type": "code",
   "execution_count": 753,
   "id": "every-least",
   "metadata": {},
   "outputs": [],
   "source": [
    "run_1_best['run'] = 1\n",
    "run_2_best['run'] = 2\n",
    "run_3_best['run'] = 3"
   ]
  },
  {
   "cell_type": "code",
   "execution_count": 754,
   "id": "adverse-active",
   "metadata": {},
   "outputs": [],
   "source": [
    "best_pheno_df = pd.DataFrame(run_1_best).T.append(run_2_best).append(run_3_best)"
   ]
  },
  {
   "cell_type": "code",
   "execution_count": 784,
   "id": "theoretical-modern",
   "metadata": {},
   "outputs": [],
   "source": [
    "best_pheno_df = best_pheno_df.reset_index(drop=True)"
   ]
  },
  {
   "cell_type": "code",
   "execution_count": 760,
   "id": "parental-bahamas",
   "metadata": {},
   "outputs": [],
   "source": [
    "best = best_pheno_df['Distance to Target'].mean()\n",
    "std = best_pheno_df['Distance to Target'].std()"
   ]
  },
  {
   "cell_type": "code",
   "execution_count": 785,
   "id": "competitive-viewer",
   "metadata": {},
   "outputs": [
    {
     "data": {
      "text/plain": [
       "0   -19.078790\n",
       "1   -20.099967\n",
       "2   -20.092420\n",
       "Name: Distance to Target, dtype: float64"
      ]
     },
     "execution_count": 785,
     "metadata": {},
     "output_type": "execute_result"
    }
   ],
   "source": [
    "fit = best_pheno_df['Distance to Target']\n",
    "fit"
   ]
  },
  {
   "cell_type": "code",
   "execution_count": 807,
   "id": "divine-logging",
   "metadata": {},
   "outputs": [
    {
     "data": {
      "image/png": "[encoded data removed]",
      "text/plain": [
       "<Figure size 1080x648 with 1 Axes>"
      ]
     },
     "metadata": {},
     "output_type": "display_data"
    }
   ],
   "source": [
    "ax = sns.boxplot(data=best_pheno_df['Distance to Target'])\n",
    "ax.set(xlabel='Best Phenotype over 3 runs (ID: 41)')\n",
    "ax.figure.savefig('best_phenotype_41.png')"
   ]
  },
  {
   "cell_type": "code",
   "execution_count": null,
   "id": "exclusive-firewall",
   "metadata": {},
   "outputs": [],
   "source": []
  }
 ],
 "metadata": {
  "kernelspec": {
   "display_name": "Python 3",
   "language": "python",
   "name": "python3"
  },
  "language_info": {
   "codemirror_mode": {
    "name": "ipython",
    "version": 3
   },
   "file_extension": ".py",
   "mimetype": "text/x-python",
   "name": "python",
   "nbconvert_exporter": "python",
   "pygments_lexer": "ipython3",
   "version": "3.9.2"
  }
 },
 "nbformat": 4,
 "nbformat_minor": 5
}
