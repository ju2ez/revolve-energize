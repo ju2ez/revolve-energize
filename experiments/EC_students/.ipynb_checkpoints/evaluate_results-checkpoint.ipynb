{
 "cells": [
  {
   "cell_type": "code",
   "execution_count": 1,
   "id": "smart-horizontal",
   "metadata": {},
   "outputs": [],
   "source": [
    "import pandas as pd\n",
    "import numpy as np\n",
    "import copy as cp\n",
    "import matplotlib.pyplot as plt\n",
    "import seaborn as sns\n",
    "import os\n",
    "from natsort import natsorted, ns"
   ]
  },
  {
   "cell_type": "code",
   "execution_count": 2,
   "id": "comfortable-minority",
   "metadata": {},
   "outputs": [
    {
     "data": {
      "text/plain": [
       "'\\nA script to evaulate an experiment and create plots accoringly. \\n\\n'"
      ]
     },
     "execution_count": 2,
     "metadata": {},
     "output_type": "execute_result"
    }
   ],
   "source": [
    "\"\"\"\n",
    "A script to evaulate an experiment and create plots accoringly. \n",
    "\n",
    "\"\"\""
   ]
  },
  {
   "cell_type": "code",
   "execution_count": 103,
   "id": "accredited-communications",
   "metadata": {},
   "outputs": [
    {
     "ename": "FileNotFoundError",
     "evalue": "[Errno 2] No such file or directory: './data/greater-exp'",
     "output_type": "error",
     "traceback": [
      "\u001b[0;31m---------------------------------------------------------------------------\u001b[0m",
      "\u001b[0;31mFileNotFoundError\u001b[0m                         Traceback (most recent call last)",
      "\u001b[0;32m<ipython-input-103-bd4bf90be8d2>\u001b[0m in \u001b[0;36m<module>\u001b[0;34m\u001b[0m\n\u001b[1;32m      1\u001b[0m \u001b[0;31m#set experiment folder as root dir of this script\u001b[0m\u001b[0;34m\u001b[0m\u001b[0;34m\u001b[0m\u001b[0;34m\u001b[0m\u001b[0m\n\u001b[1;32m      2\u001b[0m \u001b[0mexperiment_folder\u001b[0m \u001b[0;34m=\u001b[0m \u001b[0;34m\"./data/greater-exp\"\u001b[0m\u001b[0;34m\u001b[0m\u001b[0;34m\u001b[0m\u001b[0m\n\u001b[0;32m----> 3\u001b[0;31m \u001b[0mos\u001b[0m\u001b[0;34m.\u001b[0m\u001b[0mchdir\u001b[0m\u001b[0;34m(\u001b[0m\u001b[0mexperiment_folder\u001b[0m\u001b[0;34m)\u001b[0m\u001b[0;34m\u001b[0m\u001b[0;34m\u001b[0m\u001b[0m\n\u001b[0m",
      "\u001b[0;31mFileNotFoundError\u001b[0m: [Errno 2] No such file or directory: './data/greater-exp'"
     ]
    }
   ],
   "source": [
    "#set experiment folder as root dir of this script\n",
    "experiment_folder = \"./data/greater-exp\"\n",
    "os.chdir(experiment_folder)"
   ]
  },
  {
   "cell_type": "code",
   "execution_count": 146,
   "id": "swedish-blanket",
   "metadata": {},
   "outputs": [],
   "source": [
    "#set hyperparameters \n",
    "num_generations = 6\n",
    "population_size = 100\n",
    "num_runs = 2\n",
    "\n",
    "\n",
    "    "
   ]
  },
  {
   "cell_type": "code",
   "execution_count": 147,
   "id": "close-wales",
   "metadata": {},
   "outputs": [],
   "source": [
    "df = pd.DataFrame()\n",
    "generation_identifiers = {}\n",
    "\n",
    "for run in sorted(os.listdir(\".\")):\n",
    "    if run[0].isdigit():\n",
    "        #only use the run dirs \n",
    "        for filename in natsorted(os.listdir(\"./\"+run+\"/generations\")):\n",
    "            _generation_ids = pd.read_csv(\"./\"+run+\"/generations/\"+filename+\"/identifiers.txt\", header=None)\n",
    "            _generation_ids.rename({0: filename}, axis=1, inplace=True)\n",
    "            if not f\"{run}\" in generation_identifiers:\n",
    "                generation_identifiers[f\"{run}\"] = []\n",
    "            generation_identifiers[f\"{run}\"].append(_generation_ids)"
   ]
  },
  {
   "cell_type": "code",
   "execution_count": 148,
   "id": "urban-bracket",
   "metadata": {},
   "outputs": [
    {
     "data": {
      "text/html": [
       "<div>\n",
       "<style scoped>\n",
       "    .dataframe tbody tr th:only-of-type {\n",
       "        vertical-align: middle;\n",
       "    }\n",
       "\n",
       "    .dataframe tbody tr th {\n",
       "        vertical-align: top;\n",
       "    }\n",
       "\n",
       "    .dataframe thead th {\n",
       "        text-align: right;\n",
       "    }\n",
       "</style>\n",
       "<table border=\"1\" class=\"dataframe\">\n",
       "  <thead>\n",
       "    <tr style=\"text-align: right;\">\n",
       "      <th></th>\n",
       "      <th>generation_0</th>\n",
       "    </tr>\n",
       "  </thead>\n",
       "  <tbody>\n",
       "    <tr>\n",
       "      <th>0</th>\n",
       "      <td>1</td>\n",
       "    </tr>\n",
       "    <tr>\n",
       "      <th>1</th>\n",
       "      <td>2</td>\n",
       "    </tr>\n",
       "    <tr>\n",
       "      <th>2</th>\n",
       "      <td>3</td>\n",
       "    </tr>\n",
       "  </tbody>\n",
       "</table>\n",
       "</div>"
      ],
      "text/plain": [
       "   generation_0\n",
       "0             1\n",
       "1             2\n",
       "2             3"
      ]
     },
     "execution_count": 148,
     "metadata": {},
     "output_type": "execute_result"
    }
   ],
   "source": [
    "#contains the information about the phenotype ID of each generation\n",
    "generation_identifiers['1'][0].head(3)"
   ]
  },
  {
   "cell_type": "code",
   "execution_count": 149,
   "id": "ancient-reset",
   "metadata": {},
   "outputs": [],
   "source": [
    "runs = {}\n",
    "for run in range(1, num_runs+1):\n",
    "    # cause run starts with 1 \n",
    "    df = pd.DataFrame()\n",
    "    for generation in range(num_generations):\n",
    "        df = df.append(generation_identifiers[f\"{run}\"][generation][f\"generation_{generation}\"])\n",
    "    runs[f\"{run}\"] = df"
   ]
  },
  {
   "cell_type": "code",
   "execution_count": 150,
   "id": "bright-material",
   "metadata": {},
   "outputs": [],
   "source": [
    "fitness_values = {}\n",
    "\n",
    "for run in range(1, num_runs+1):\n",
    "    fitness_values[f\"{run}\"] = pd.read_csv(f\"{run}/data_fullevolution/fitness.csv\", header=None)\n",
    "    fitness_values[f\"{run}\"].rename({0:\"Individual_ID\", 1:\"Distance to Target\"}, axis=1, inplace=True)"
   ]
  },
  {
   "cell_type": "code",
   "execution_count": 151,
   "id": "embedded-transformation",
   "metadata": {},
   "outputs": [],
   "source": [
    "# no exchange the phenotype ID with the fitness value \n",
    "fitness_df = pd.DataFrame()\n",
    "for _run in runs:\n",
    "    run_df = runs[_run]\n",
    "    _fitness_df = cp.deepcopy(run_df.T)\n",
    "    for gen in run_df.T:\n",
    "        for index in range(len(run_df.T)):\n",
    "            individual = int((_fitness_df[gen][int(index)]))\n",
    "            fitness_value = fitness_values[str(_run)].T[(individual)]['Distance to Target']\n",
    "            _fitness_df[gen][index] = fitness_value\n",
    "            \n",
    "    cur_run = np.ndarray(shape=(len(_fitness_df)))\n",
    "    cur_run.fill(int(_run))\n",
    "    _fitness_df['run'] = cur_run\n",
    "\n",
    "    fitness_df = fitness_df.append(_fitness_df)"
   ]
  },
  {
   "cell_type": "code",
   "execution_count": 152,
   "id": "polar-copying",
   "metadata": {},
   "outputs": [
    {
     "data": {
      "text/html": [
       "<div>\n",
       "<style scoped>\n",
       "    .dataframe tbody tr th:only-of-type {\n",
       "        vertical-align: middle;\n",
       "    }\n",
       "\n",
       "    .dataframe tbody tr th {\n",
       "        vertical-align: top;\n",
       "    }\n",
       "\n",
       "    .dataframe thead th {\n",
       "        text-align: right;\n",
       "    }\n",
       "</style>\n",
       "<table border=\"1\" class=\"dataframe\">\n",
       "  <thead>\n",
       "    <tr style=\"text-align: right;\">\n",
       "      <th></th>\n",
       "      <th>generation_0</th>\n",
       "      <th>generation_1</th>\n",
       "      <th>generation_2</th>\n",
       "      <th>generation_3</th>\n",
       "      <th>generation_4</th>\n",
       "      <th>generation_5</th>\n",
       "      <th>run</th>\n",
       "    </tr>\n",
       "  </thead>\n",
       "  <tbody>\n",
       "    <tr>\n",
       "      <th>0</th>\n",
       "      <td>-0.003457</td>\n",
       "      <td>-0.022600</td>\n",
       "      <td>-0.020000</td>\n",
       "      <td>-0.052191</td>\n",
       "      <td>-0.020000</td>\n",
       "      <td>-0.020000</td>\n",
       "      <td>1.0</td>\n",
       "    </tr>\n",
       "    <tr>\n",
       "      <th>1</th>\n",
       "      <td>-0.023369</td>\n",
       "      <td>-0.020074</td>\n",
       "      <td>-0.020170</td>\n",
       "      <td>-0.037763</td>\n",
       "      <td>-0.020000</td>\n",
       "      <td>-0.023633</td>\n",
       "      <td>1.0</td>\n",
       "    </tr>\n",
       "    <tr>\n",
       "      <th>2</th>\n",
       "      <td>-0.020000</td>\n",
       "      <td>-0.005229</td>\n",
       "      <td>-0.023708</td>\n",
       "      <td>-0.063376</td>\n",
       "      <td>-0.042358</td>\n",
       "      <td>-0.020114</td>\n",
       "      <td>1.0</td>\n",
       "    </tr>\n",
       "    <tr>\n",
       "      <th>3</th>\n",
       "      <td>-0.031922</td>\n",
       "      <td>-0.052191</td>\n",
       "      <td>-0.023262</td>\n",
       "      <td>-0.020008</td>\n",
       "      <td>-0.020000</td>\n",
       "      <td>-0.020000</td>\n",
       "      <td>1.0</td>\n",
       "    </tr>\n",
       "    <tr>\n",
       "      <th>4</th>\n",
       "      <td>-0.056974</td>\n",
       "      <td>-0.020054</td>\n",
       "      <td>-0.020000</td>\n",
       "      <td>-0.020004</td>\n",
       "      <td>-0.020038</td>\n",
       "      <td>-0.020000</td>\n",
       "      <td>1.0</td>\n",
       "    </tr>\n",
       "    <tr>\n",
       "      <th>...</th>\n",
       "      <td>...</td>\n",
       "      <td>...</td>\n",
       "      <td>...</td>\n",
       "      <td>...</td>\n",
       "      <td>...</td>\n",
       "      <td>...</td>\n",
       "      <td>...</td>\n",
       "    </tr>\n",
       "    <tr>\n",
       "      <th>95</th>\n",
       "      <td>-0.020366</td>\n",
       "      <td>-0.020000</td>\n",
       "      <td>-0.020096</td>\n",
       "      <td>-0.020000</td>\n",
       "      <td>-0.016524</td>\n",
       "      <td>-0.020001</td>\n",
       "      <td>2.0</td>\n",
       "    </tr>\n",
       "    <tr>\n",
       "      <th>96</th>\n",
       "      <td>-0.020600</td>\n",
       "      <td>-0.025359</td>\n",
       "      <td>-0.020000</td>\n",
       "      <td>-0.020000</td>\n",
       "      <td>-0.020000</td>\n",
       "      <td>-0.023118</td>\n",
       "      <td>2.0</td>\n",
       "    </tr>\n",
       "    <tr>\n",
       "      <th>97</th>\n",
       "      <td>-0.022676</td>\n",
       "      <td>-0.020000</td>\n",
       "      <td>-0.027438</td>\n",
       "      <td>-0.020631</td>\n",
       "      <td>-0.018027</td>\n",
       "      <td>0.003631</td>\n",
       "      <td>2.0</td>\n",
       "    </tr>\n",
       "    <tr>\n",
       "      <th>98</th>\n",
       "      <td>0.047116</td>\n",
       "      <td>-0.021502</td>\n",
       "      <td>-0.022321</td>\n",
       "      <td>-0.020000</td>\n",
       "      <td>-0.021405</td>\n",
       "      <td>-0.020000</td>\n",
       "      <td>2.0</td>\n",
       "    </tr>\n",
       "    <tr>\n",
       "      <th>99</th>\n",
       "      <td>-0.031744</td>\n",
       "      <td>-0.024666</td>\n",
       "      <td>-0.027698</td>\n",
       "      <td>-0.063682</td>\n",
       "      <td>-0.017046</td>\n",
       "      <td>-0.023260</td>\n",
       "      <td>2.0</td>\n",
       "    </tr>\n",
       "  </tbody>\n",
       "</table>\n",
       "<p>200 rows × 7 columns</p>\n",
       "</div>"
      ],
      "text/plain": [
       "    generation_0  generation_1  generation_2  generation_3  generation_4  \\\n",
       "0      -0.003457     -0.022600     -0.020000     -0.052191     -0.020000   \n",
       "1      -0.023369     -0.020074     -0.020170     -0.037763     -0.020000   \n",
       "2      -0.020000     -0.005229     -0.023708     -0.063376     -0.042358   \n",
       "3      -0.031922     -0.052191     -0.023262     -0.020008     -0.020000   \n",
       "4      -0.056974     -0.020054     -0.020000     -0.020004     -0.020038   \n",
       "..           ...           ...           ...           ...           ...   \n",
       "95     -0.020366     -0.020000     -0.020096     -0.020000     -0.016524   \n",
       "96     -0.020600     -0.025359     -0.020000     -0.020000     -0.020000   \n",
       "97     -0.022676     -0.020000     -0.027438     -0.020631     -0.018027   \n",
       "98      0.047116     -0.021502     -0.022321     -0.020000     -0.021405   \n",
       "99     -0.031744     -0.024666     -0.027698     -0.063682     -0.017046   \n",
       "\n",
       "    generation_5  run  \n",
       "0      -0.020000  1.0  \n",
       "1      -0.023633  1.0  \n",
       "2      -0.020114  1.0  \n",
       "3      -0.020000  1.0  \n",
       "4      -0.020000  1.0  \n",
       "..           ...  ...  \n",
       "95     -0.020001  2.0  \n",
       "96     -0.023118  2.0  \n",
       "97      0.003631  2.0  \n",
       "98     -0.020000  2.0  \n",
       "99     -0.023260  2.0  \n",
       "\n",
       "[200 rows x 7 columns]"
      ]
     },
     "execution_count": 152,
     "metadata": {},
     "output_type": "execute_result"
    }
   ],
   "source": [
    "fitness_df"
   ]
  },
  {
   "cell_type": "code",
   "execution_count": 153,
   "id": "imported-think",
   "metadata": {},
   "outputs": [],
   "source": [
    "mean_dic = {}\n",
    "std_dic = {}\n",
    "min_dic = {}\n",
    "max_dic = {}\n",
    "\n",
    "for run in range(num_runs):\n",
    "    for gen in fitness_df:\n",
    "        if gen != 'run':\n",
    "            mean_dic[gen] = fitness_df[gen].mean()\n",
    "            std_dic[gen] = fitness_df[gen].std()\n",
    "            min_dic[gen] = fitness_df[gen].min()\n",
    "            max_dic[gen] = fitness_df[gen].max()\n",
    "\n",
    "        \n",
    "    \n",
    "    mean_df = pd.DataFrame(mean_dic, index=[0]).rename({0:\"mean\"})\n",
    "    std_df =  pd.DataFrame(std_dic, index=[0]).rename({0:\"std\"})\n",
    "    min_df =  pd.DataFrame(min_dic, index=[0]).rename({0:\"min\"})\n",
    "    max_df =  pd.DataFrame(max_dic, index=[0]).rename({0:\"max\"})\n",
    "    result_df = mean_df.append(std_df).append(min_df).append(max_df).T\n",
    "    result_df['run'] = run"
   ]
  },
  {
   "cell_type": "code",
   "execution_count": 154,
   "id": "rolled-citizen",
   "metadata": {},
   "outputs": [
    {
     "data": {
      "text/html": [
       "<div>\n",
       "<style scoped>\n",
       "    .dataframe tbody tr th:only-of-type {\n",
       "        vertical-align: middle;\n",
       "    }\n",
       "\n",
       "    .dataframe tbody tr th {\n",
       "        vertical-align: top;\n",
       "    }\n",
       "\n",
       "    .dataframe thead th {\n",
       "        text-align: right;\n",
       "    }\n",
       "</style>\n",
       "<table border=\"1\" class=\"dataframe\">\n",
       "  <thead>\n",
       "    <tr style=\"text-align: right;\">\n",
       "      <th></th>\n",
       "      <th>mean</th>\n",
       "      <th>std</th>\n",
       "      <th>min</th>\n",
       "      <th>max</th>\n",
       "      <th>run</th>\n",
       "    </tr>\n",
       "  </thead>\n",
       "  <tbody>\n",
       "    <tr>\n",
       "      <th>generation_0</th>\n",
       "      <td>-0.028218</td>\n",
       "      <td>0.028310</td>\n",
       "      <td>-0.222719</td>\n",
       "      <td>0.047116</td>\n",
       "      <td>1</td>\n",
       "    </tr>\n",
       "    <tr>\n",
       "      <th>generation_1</th>\n",
       "      <td>-0.027267</td>\n",
       "      <td>0.026318</td>\n",
       "      <td>-0.222719</td>\n",
       "      <td>0.047116</td>\n",
       "      <td>1</td>\n",
       "    </tr>\n",
       "    <tr>\n",
       "      <th>generation_2</th>\n",
       "      <td>-0.024808</td>\n",
       "      <td>0.017397</td>\n",
       "      <td>-0.160508</td>\n",
       "      <td>0.050164</td>\n",
       "      <td>1</td>\n",
       "    </tr>\n",
       "    <tr>\n",
       "      <th>generation_3</th>\n",
       "      <td>-0.024735</td>\n",
       "      <td>0.017325</td>\n",
       "      <td>-0.160508</td>\n",
       "      <td>0.050164</td>\n",
       "      <td>1</td>\n",
       "    </tr>\n",
       "    <tr>\n",
       "      <th>generation_4</th>\n",
       "      <td>-0.024083</td>\n",
       "      <td>0.020090</td>\n",
       "      <td>-0.160508</td>\n",
       "      <td>0.116842</td>\n",
       "      <td>1</td>\n",
       "    </tr>\n",
       "    <tr>\n",
       "      <th>generation_5</th>\n",
       "      <td>-0.023875</td>\n",
       "      <td>0.016829</td>\n",
       "      <td>-0.098874</td>\n",
       "      <td>0.116842</td>\n",
       "      <td>1</td>\n",
       "    </tr>\n",
       "  </tbody>\n",
       "</table>\n",
       "</div>"
      ],
      "text/plain": [
       "                  mean       std       min       max  run\n",
       "generation_0 -0.028218  0.028310 -0.222719  0.047116    1\n",
       "generation_1 -0.027267  0.026318 -0.222719  0.047116    1\n",
       "generation_2 -0.024808  0.017397 -0.160508  0.050164    1\n",
       "generation_3 -0.024735  0.017325 -0.160508  0.050164    1\n",
       "generation_4 -0.024083  0.020090 -0.160508  0.116842    1\n",
       "generation_5 -0.023875  0.016829 -0.098874  0.116842    1"
      ]
     },
     "execution_count": 154,
     "metadata": {},
     "output_type": "execute_result"
    }
   ],
   "source": [
    "result_df"
   ]
  },
  {
   "cell_type": "code",
   "execution_count": 155,
   "id": "shared-convention",
   "metadata": {},
   "outputs": [],
   "source": [
    "result_df = result_df.set_axis([i for i in range(len(result_df))])"
   ]
  },
  {
   "cell_type": "code",
   "execution_count": 156,
   "id": "acknowledged-continuity",
   "metadata": {},
   "outputs": [],
   "source": [
    "result_df.index.name = 'generations'"
   ]
  },
  {
   "cell_type": "code",
   "execution_count": 157,
   "id": "handled-sunset",
   "metadata": {},
   "outputs": [
    {
     "data": {
      "text/html": [
       "<div>\n",
       "<style scoped>\n",
       "    .dataframe tbody tr th:only-of-type {\n",
       "        vertical-align: middle;\n",
       "    }\n",
       "\n",
       "    .dataframe tbody tr th {\n",
       "        vertical-align: top;\n",
       "    }\n",
       "\n",
       "    .dataframe thead th {\n",
       "        text-align: right;\n",
       "    }\n",
       "</style>\n",
       "<table border=\"1\" class=\"dataframe\">\n",
       "  <thead>\n",
       "    <tr style=\"text-align: right;\">\n",
       "      <th></th>\n",
       "      <th>mean</th>\n",
       "      <th>std</th>\n",
       "      <th>min</th>\n",
       "      <th>max</th>\n",
       "      <th>run</th>\n",
       "    </tr>\n",
       "    <tr>\n",
       "      <th>generations</th>\n",
       "      <th></th>\n",
       "      <th></th>\n",
       "      <th></th>\n",
       "      <th></th>\n",
       "      <th></th>\n",
       "    </tr>\n",
       "  </thead>\n",
       "  <tbody>\n",
       "    <tr>\n",
       "      <th>0</th>\n",
       "      <td>-0.028218</td>\n",
       "      <td>0.028310</td>\n",
       "      <td>-0.222719</td>\n",
       "      <td>0.047116</td>\n",
       "      <td>1</td>\n",
       "    </tr>\n",
       "    <tr>\n",
       "      <th>1</th>\n",
       "      <td>-0.027267</td>\n",
       "      <td>0.026318</td>\n",
       "      <td>-0.222719</td>\n",
       "      <td>0.047116</td>\n",
       "      <td>1</td>\n",
       "    </tr>\n",
       "    <tr>\n",
       "      <th>2</th>\n",
       "      <td>-0.024808</td>\n",
       "      <td>0.017397</td>\n",
       "      <td>-0.160508</td>\n",
       "      <td>0.050164</td>\n",
       "      <td>1</td>\n",
       "    </tr>\n",
       "    <tr>\n",
       "      <th>3</th>\n",
       "      <td>-0.024735</td>\n",
       "      <td>0.017325</td>\n",
       "      <td>-0.160508</td>\n",
       "      <td>0.050164</td>\n",
       "      <td>1</td>\n",
       "    </tr>\n",
       "    <tr>\n",
       "      <th>4</th>\n",
       "      <td>-0.024083</td>\n",
       "      <td>0.020090</td>\n",
       "      <td>-0.160508</td>\n",
       "      <td>0.116842</td>\n",
       "      <td>1</td>\n",
       "    </tr>\n",
       "    <tr>\n",
       "      <th>5</th>\n",
       "      <td>-0.023875</td>\n",
       "      <td>0.016829</td>\n",
       "      <td>-0.098874</td>\n",
       "      <td>0.116842</td>\n",
       "      <td>1</td>\n",
       "    </tr>\n",
       "  </tbody>\n",
       "</table>\n",
       "</div>"
      ],
      "text/plain": [
       "                 mean       std       min       max  run\n",
       "generations                                             \n",
       "0           -0.028218  0.028310 -0.222719  0.047116    1\n",
       "1           -0.027267  0.026318 -0.222719  0.047116    1\n",
       "2           -0.024808  0.017397 -0.160508  0.050164    1\n",
       "3           -0.024735  0.017325 -0.160508  0.050164    1\n",
       "4           -0.024083  0.020090 -0.160508  0.116842    1\n",
       "5           -0.023875  0.016829 -0.098874  0.116842    1"
      ]
     },
     "execution_count": 157,
     "metadata": {},
     "output_type": "execute_result"
    }
   ],
   "source": [
    "result_df"
   ]
  },
  {
   "cell_type": "code",
   "execution_count": 162,
   "id": "devoted-creator",
   "metadata": {},
   "outputs": [
    {
     "data": {
      "image/png": "[encoded data removed]",
      "text/plain": [
       "<Figure size 1080x648 with 1 Axes>"
      ]
     },
     "metadata": {},
     "output_type": "display_data"
    }
   ],
   "source": [
    "ax = sns.lineplot(x=result_df.T.columns, y=result_df['mean'], markers=True, dashes=True)\n",
    "ax.set(ylabel='Average distance to target position')\n",
    "sns.set(rc={'figure.figsize':(15,9)})\n",
    "ax.figure.savefig(\"output.png\")\n",
    "plt.show()"
   ]
  },
  {
   "cell_type": "code",
   "execution_count": 159,
   "id": "undefined-bridal",
   "metadata": {},
   "outputs": [
    {
     "data": {
      "text/plain": [
       "<AxesSubplot:xlabel='generations'>"
      ]
     },
     "execution_count": 159,
     "metadata": {},
     "output_type": "execute_result"
    },
    {
     "data": {
      "image/png": "[encoded data removed]",
      "text/plain": [
       "<Figure size 1080x648 with 1 Axes>"
      ]
     },
     "metadata": {},
     "output_type": "display_data"
    }
   ],
   "source": [
    "sns.lineplot(data=result_df)"
   ]
  },
  {
   "cell_type": "code",
   "execution_count": 228,
   "id": "practical-bobby",
   "metadata": {},
   "outputs": [
    {
     "data": {
      "text/html": [
       "<div>\n",
       "<style scoped>\n",
       "    .dataframe tbody tr th:only-of-type {\n",
       "        vertical-align: middle;\n",
       "    }\n",
       "\n",
       "    .dataframe tbody tr th {\n",
       "        vertical-align: top;\n",
       "    }\n",
       "\n",
       "    .dataframe thead th {\n",
       "        text-align: right;\n",
       "    }\n",
       "</style>\n",
       "<table border=\"1\" class=\"dataframe\">\n",
       "  <thead>\n",
       "    <tr style=\"text-align: right;\">\n",
       "      <th></th>\n",
       "      <th>0</th>\n",
       "      <th>1</th>\n",
       "      <th>2</th>\n",
       "      <th>3</th>\n",
       "      <th>4</th>\n",
       "      <th>5</th>\n",
       "      <th>run</th>\n",
       "    </tr>\n",
       "  </thead>\n",
       "  <tbody>\n",
       "    <tr>\n",
       "      <th>0</th>\n",
       "      <td>-0.003457</td>\n",
       "      <td>-0.022600</td>\n",
       "      <td>-0.020000</td>\n",
       "      <td>-0.052191</td>\n",
       "      <td>-0.020000</td>\n",
       "      <td>-0.020000</td>\n",
       "      <td>1.0</td>\n",
       "    </tr>\n",
       "    <tr>\n",
       "      <th>1</th>\n",
       "      <td>-0.023369</td>\n",
       "      <td>-0.020074</td>\n",
       "      <td>-0.020170</td>\n",
       "      <td>-0.037763</td>\n",
       "      <td>-0.020000</td>\n",
       "      <td>-0.023633</td>\n",
       "      <td>1.0</td>\n",
       "    </tr>\n",
       "    <tr>\n",
       "      <th>2</th>\n",
       "      <td>-0.020000</td>\n",
       "      <td>-0.005229</td>\n",
       "      <td>-0.023708</td>\n",
       "      <td>-0.063376</td>\n",
       "      <td>-0.042358</td>\n",
       "      <td>-0.020114</td>\n",
       "      <td>1.0</td>\n",
       "    </tr>\n",
       "    <tr>\n",
       "      <th>3</th>\n",
       "      <td>-0.031922</td>\n",
       "      <td>-0.052191</td>\n",
       "      <td>-0.023262</td>\n",
       "      <td>-0.020008</td>\n",
       "      <td>-0.020000</td>\n",
       "      <td>-0.020000</td>\n",
       "      <td>1.0</td>\n",
       "    </tr>\n",
       "    <tr>\n",
       "      <th>4</th>\n",
       "      <td>-0.056974</td>\n",
       "      <td>-0.020054</td>\n",
       "      <td>-0.020000</td>\n",
       "      <td>-0.020004</td>\n",
       "      <td>-0.020038</td>\n",
       "      <td>-0.020000</td>\n",
       "      <td>1.0</td>\n",
       "    </tr>\n",
       "    <tr>\n",
       "      <th>...</th>\n",
       "      <td>...</td>\n",
       "      <td>...</td>\n",
       "      <td>...</td>\n",
       "      <td>...</td>\n",
       "      <td>...</td>\n",
       "      <td>...</td>\n",
       "      <td>...</td>\n",
       "    </tr>\n",
       "    <tr>\n",
       "      <th>95</th>\n",
       "      <td>-0.020366</td>\n",
       "      <td>-0.020000</td>\n",
       "      <td>-0.020096</td>\n",
       "      <td>-0.020000</td>\n",
       "      <td>-0.016524</td>\n",
       "      <td>-0.020001</td>\n",
       "      <td>2.0</td>\n",
       "    </tr>\n",
       "    <tr>\n",
       "      <th>96</th>\n",
       "      <td>-0.020600</td>\n",
       "      <td>-0.025359</td>\n",
       "      <td>-0.020000</td>\n",
       "      <td>-0.020000</td>\n",
       "      <td>-0.020000</td>\n",
       "      <td>-0.023118</td>\n",
       "      <td>2.0</td>\n",
       "    </tr>\n",
       "    <tr>\n",
       "      <th>97</th>\n",
       "      <td>-0.022676</td>\n",
       "      <td>-0.020000</td>\n",
       "      <td>-0.027438</td>\n",
       "      <td>-0.020631</td>\n",
       "      <td>-0.018027</td>\n",
       "      <td>0.003631</td>\n",
       "      <td>2.0</td>\n",
       "    </tr>\n",
       "    <tr>\n",
       "      <th>98</th>\n",
       "      <td>0.047116</td>\n",
       "      <td>-0.021502</td>\n",
       "      <td>-0.022321</td>\n",
       "      <td>-0.020000</td>\n",
       "      <td>-0.021405</td>\n",
       "      <td>-0.020000</td>\n",
       "      <td>2.0</td>\n",
       "    </tr>\n",
       "    <tr>\n",
       "      <th>99</th>\n",
       "      <td>-0.031744</td>\n",
       "      <td>-0.024666</td>\n",
       "      <td>-0.027698</td>\n",
       "      <td>-0.063682</td>\n",
       "      <td>-0.017046</td>\n",
       "      <td>-0.023260</td>\n",
       "      <td>2.0</td>\n",
       "    </tr>\n",
       "  </tbody>\n",
       "</table>\n",
       "<p>200 rows × 7 columns</p>\n",
       "</div>"
      ],
      "text/plain": [
       "           0         1         2         3         4         5  run\n",
       "0  -0.003457 -0.022600 -0.020000 -0.052191 -0.020000 -0.020000  1.0\n",
       "1  -0.023369 -0.020074 -0.020170 -0.037763 -0.020000 -0.023633  1.0\n",
       "2  -0.020000 -0.005229 -0.023708 -0.063376 -0.042358 -0.020114  1.0\n",
       "3  -0.031922 -0.052191 -0.023262 -0.020008 -0.020000 -0.020000  1.0\n",
       "4  -0.056974 -0.020054 -0.020000 -0.020004 -0.020038 -0.020000  1.0\n",
       "..       ...       ...       ...       ...       ...       ...  ...\n",
       "95 -0.020366 -0.020000 -0.020096 -0.020000 -0.016524 -0.020001  2.0\n",
       "96 -0.020600 -0.025359 -0.020000 -0.020000 -0.020000 -0.023118  2.0\n",
       "97 -0.022676 -0.020000 -0.027438 -0.020631 -0.018027  0.003631  2.0\n",
       "98  0.047116 -0.021502 -0.022321 -0.020000 -0.021405 -0.020000  2.0\n",
       "99 -0.031744 -0.024666 -0.027698 -0.063682 -0.017046 -0.023260  2.0\n",
       "\n",
       "[200 rows x 7 columns]"
      ]
     },
     "execution_count": 228,
     "metadata": {},
     "output_type": "execute_result"
    }
   ],
   "source": [
    "formated_fitness_df = cp.deepcopy(fitness_df)\n",
    "formated_fitness_df.set_axis([i for i in range(len(fitness_df.T))], axis=1, inplace=True)\n",
    "formated_fitness_df.rename(columns={len(fitness_df.T)-1 : 'run'}, inplace=True)\n",
    "formated_fitness_df"
   ]
  },
  {
   "cell_type": "code",
   "execution_count": 229,
   "id": "immune-combining",
   "metadata": {},
   "outputs": [
    {
     "data": {
      "text/html": [
       "<div>\n",
       "<style scoped>\n",
       "    .dataframe tbody tr th:only-of-type {\n",
       "        vertical-align: middle;\n",
       "    }\n",
       "\n",
       "    .dataframe tbody tr th {\n",
       "        vertical-align: top;\n",
       "    }\n",
       "\n",
       "    .dataframe thead th {\n",
       "        text-align: right;\n",
       "    }\n",
       "</style>\n",
       "<table border=\"1\" class=\"dataframe\">\n",
       "  <thead>\n",
       "    <tr style=\"text-align: right;\">\n",
       "      <th></th>\n",
       "      <th>run</th>\n",
       "      <th>generation</th>\n",
       "      <th>fitness</th>\n",
       "    </tr>\n",
       "  </thead>\n",
       "  <tbody>\n",
       "    <tr>\n",
       "      <th>0</th>\n",
       "      <td>1.0</td>\n",
       "      <td>0</td>\n",
       "      <td>-0.003457</td>\n",
       "    </tr>\n",
       "    <tr>\n",
       "      <th>1</th>\n",
       "      <td>1.0</td>\n",
       "      <td>0</td>\n",
       "      <td>-0.023369</td>\n",
       "    </tr>\n",
       "    <tr>\n",
       "      <th>2</th>\n",
       "      <td>1.0</td>\n",
       "      <td>0</td>\n",
       "      <td>-0.020000</td>\n",
       "    </tr>\n",
       "  </tbody>\n",
       "</table>\n",
       "</div>"
      ],
      "text/plain": [
       "   run generation   fitness\n",
       "0  1.0          0 -0.003457\n",
       "1  1.0          0 -0.023369\n",
       "2  1.0          0 -0.020000"
      ]
     },
     "execution_count": 229,
     "metadata": {},
     "output_type": "execute_result"
    }
   ],
   "source": [
    "melted_formated_fitness = formated_fitness_df.melt(id_vars='run')\n",
    "melted_formated_fitness.rename(columns={'variable':'generation', 'value':'fitness'}, inplace=True)\n",
    "melted_formated_fitness.head(3)"
   ]
  },
  {
   "cell_type": "code",
   "execution_count": 230,
   "id": "humanitarian-collins",
   "metadata": {},
   "outputs": [
    {
     "data": {
      "text/plain": [
       "<AxesSubplot:xlabel='generation', ylabel='fitness'>"
      ]
     },
     "execution_count": 230,
     "metadata": {},
     "output_type": "execute_result"
    },
    {
     "data": {
      "image/png": "[encoded data removed]",
      "text/plain": [
       "<Figure size 1080x648 with 1 Axes>"
      ]
     },
     "metadata": {},
     "output_type": "display_data"
    }
   ],
   "source": [
    "sns.lineplot(data=melted_formated_fitness, x='generation', hue='run', y='fitness')"
   ]
  },
  {
   "cell_type": "code",
   "execution_count": 192,
   "id": "smoking-bracket",
   "metadata": {},
   "outputs": [],
   "source": [
    "# TODO: create boxplots over individual performance"
   ]
  },
  {
   "cell_type": "code",
   "execution_count": 88,
   "id": "responsible-spank",
   "metadata": {},
   "outputs": [
    {
     "ename": "NameError",
     "evalue": "name 'fitness_run_1' is not defined",
     "output_type": "error",
     "traceback": [
      "\u001b[0;31m---------------------------------------------------------------------------\u001b[0m",
      "\u001b[0;31mNameError\u001b[0m                                 Traceback (most recent call last)",
      "\u001b[0;32m<ipython-input-88-9b57e90c0a89>\u001b[0m in \u001b[0;36m<module>\u001b[0;34m\u001b[0m\n\u001b[1;32m      4\u001b[0m     merged_gen = pd.merge(\n\u001b[1;32m      5\u001b[0m         \u001b[0mleft\u001b[0m\u001b[0;34m=\u001b[0m\u001b[0mval\u001b[0m\u001b[0;34m,\u001b[0m\u001b[0;34m\u001b[0m\u001b[0;34m\u001b[0m\u001b[0m\n\u001b[0;32m----> 6\u001b[0;31m         \u001b[0mright\u001b[0m\u001b[0;34m=\u001b[0m\u001b[0mfitness_run_1\u001b[0m\u001b[0;34m,\u001b[0m\u001b[0;34m\u001b[0m\u001b[0;34m\u001b[0m\u001b[0m\n\u001b[0m\u001b[1;32m      7\u001b[0m         \u001b[0mhow\u001b[0m\u001b[0;34m=\u001b[0m\u001b[0;34m\"inner\"\u001b[0m\u001b[0;34m,\u001b[0m\u001b[0;34m\u001b[0m\u001b[0;34m\u001b[0m\u001b[0m\n\u001b[1;32m      8\u001b[0m         \u001b[0mon\u001b[0m\u001b[0;34m=\u001b[0m\u001b[0;32mNone\u001b[0m\u001b[0;34m,\u001b[0m\u001b[0;34m\u001b[0m\u001b[0;34m\u001b[0m\u001b[0m\n",
      "\u001b[0;31mNameError\u001b[0m: name 'fitness_run_1' is not defined"
     ]
    }
   ],
   "source": [
    "fitness_mean = []\n",
    "fitness_std = []\n",
    "for i, val in enumerate(generation_identifiers):\n",
    "    merged_gen = pd.merge(\n",
    "        left=val,\n",
    "        right=fitness_run_1,\n",
    "        how=\"inner\",\n",
    "        on=None,\n",
    "        left_on=\"generation_\"+str(i),\n",
    "        right_on=\"Individual_ID\",\n",
    "        left_index=False,\n",
    "        right_index=False,\n",
    "        sort=True,\n",
    "        suffixes=(\"_x\", \"_y\"),\n",
    "        copy=True,\n",
    "        indicator=False,\n",
    "        validate=None,\n",
    "    )\n",
    "    gen_mean = merged_gen[\"Distance to Target\"].mean()  \n",
    "    gen_std = merged_gen[\"Distance to Target\"].std()\n",
    "    fitness_mean.append(gen_mean)\n",
    "    fitness_std.append(gen_mean)"
   ]
  },
  {
   "cell_type": "code",
   "execution_count": 856,
   "id": "fifth-stability",
   "metadata": {},
   "outputs": [],
   "source": [
    "import matplotlib.pyplot as plt"
   ]
  },
  {
   "cell_type": "code",
   "execution_count": 129,
   "id": "forbidden-carnival",
   "metadata": {},
   "outputs": [
    {
     "data": {
      "image/png": "[encoded data removed]",
      "text/plain": [
       "<Figure size 432x288 with 1 Axes>"
      ]
     },
     "metadata": {
      "needs_background": "light"
     },
     "output_type": "display_data"
    }
   ],
   "source": [
    "plt.errorbar(list(range(1,len(fitness_mean)+1)), fitness_mean, fitness_std,linestyle='None', marker='^')\n",
    "plt.show()"
   ]
  },
  {
   "cell_type": "code",
   "execution_count": 692,
   "id": "rural-wrestling",
   "metadata": {},
   "outputs": [
    {
     "data": {
      "text/plain": [
       "-19.270146693442285"
      ]
     },
     "execution_count": 692,
     "metadata": {},
     "output_type": "execute_result"
    }
   ],
   "source": [
    "max((result_df['max']))"
   ]
  },
  {
   "cell_type": "code",
   "execution_count": 717,
   "id": "neural-offer",
   "metadata": {},
   "outputs": [
    {
     "data": {
      "text/plain": [
       "Individual_ID         41.00000\n",
       "Distance to Target   -19.07879\n",
       "Name: 40, dtype: float64"
      ]
     },
     "execution_count": 717,
     "metadata": {},
     "output_type": "execute_result"
    }
   ],
   "source": []
  },
  {
   "cell_type": "code",
   "execution_count": 748,
   "id": "drawn-tribune",
   "metadata": {},
   "outputs": [
    {
     "data": {
      "text/html": [
       "<div>\n",
       "<style scoped>\n",
       "    .dataframe tbody tr th:only-of-type {\n",
       "        vertical-align: middle;\n",
       "    }\n",
       "\n",
       "    .dataframe tbody tr th {\n",
       "        vertical-align: top;\n",
       "    }\n",
       "\n",
       "    .dataframe thead th {\n",
       "        text-align: right;\n",
       "    }\n",
       "</style>\n",
       "<table border=\"1\" class=\"dataframe\">\n",
       "  <thead>\n",
       "    <tr style=\"text-align: right;\">\n",
       "      <th></th>\n",
       "      <th>Individual_ID</th>\n",
       "      <th>Distance to Target</th>\n",
       "    </tr>\n",
       "  </thead>\n",
       "  <tbody>\n",
       "    <tr>\n",
       "      <th>40</th>\n",
       "      <td>41.0</td>\n",
       "      <td>-19.078790</td>\n",
       "    </tr>\n",
       "    <tr>\n",
       "      <th>40</th>\n",
       "      <td>41.0</td>\n",
       "      <td>-20.099967</td>\n",
       "    </tr>\n",
       "    <tr>\n",
       "      <th>40</th>\n",
       "      <td>41.0</td>\n",
       "      <td>-20.092420</td>\n",
       "    </tr>\n",
       "  </tbody>\n",
       "</table>\n",
       "</div>"
      ],
      "text/plain": [
       "    Individual_ID  Distance to Target\n",
       "40           41.0          -19.078790\n",
       "40           41.0          -20.099967\n",
       "40           41.0          -20.092420"
      ]
     },
     "execution_count": 748,
     "metadata": {},
     "output_type": "execute_result"
    }
   ],
   "source": []
  },
  {
   "cell_type": "code",
   "execution_count": 750,
   "id": "incomplete-magnitude",
   "metadata": {},
   "outputs": [],
   "source": [
    "run_1_best = fitness_run_1.T[40]\n",
    "run_2_best = fitness_run_2.T[40]\n",
    "run_3_best = fitness_run_3.T[40]\n"
   ]
  },
  {
   "cell_type": "code",
   "execution_count": 753,
   "id": "fresh-central",
   "metadata": {},
   "outputs": [],
   "source": [
    "run_1_best['run'] = 1\n",
    "run_2_best['run'] = 2\n",
    "run_3_best['run'] = 3"
   ]
  },
  {
   "cell_type": "code",
   "execution_count": 754,
   "id": "clear-perception",
   "metadata": {},
   "outputs": [],
   "source": [
    "best_pheno_df = pd.DataFrame(run_1_best).T.append(run_2_best).append(run_3_best)"
   ]
  },
  {
   "cell_type": "code",
   "execution_count": 784,
   "id": "pretty-crime",
   "metadata": {},
   "outputs": [],
   "source": [
    "best_pheno_df = best_pheno_df.reset_index(drop=True)"
   ]
  },
  {
   "cell_type": "code",
   "execution_count": 760,
   "id": "editorial-token",
   "metadata": {},
   "outputs": [],
   "source": [
    "best = best_pheno_df['Distance to Target'].mean()\n",
    "std = best_pheno_df['Distance to Target'].std()"
   ]
  },
  {
   "cell_type": "code",
   "execution_count": 785,
   "id": "alone-conviction",
   "metadata": {},
   "outputs": [
    {
     "data": {
      "text/plain": [
       "0   -19.078790\n",
       "1   -20.099967\n",
       "2   -20.092420\n",
       "Name: Distance to Target, dtype: float64"
      ]
     },
     "execution_count": 785,
     "metadata": {},
     "output_type": "execute_result"
    }
   ],
   "source": [
    "fit = best_pheno_df['Distance to Target']\n",
    "fit"
   ]
  },
  {
   "cell_type": "code",
   "execution_count": 807,
   "id": "pregnant-donna",
   "metadata": {},
   "outputs": [
    {
     "data": {
      "image/png": "[encoded data removed]",
      "text/plain": [
       "<Figure size 1080x648 with 1 Axes>"
      ]
     },
     "metadata": {},
     "output_type": "display_data"
    }
   ],
   "source": [
    "ax = sns.boxplot(data=best_pheno_df['Distance to Target'])\n",
    "ax.set(xlabel='Best Phenotype over 3 runs (ID: 41)')\n",
    "ax.figure.savefig('best_phenotype_41.png')"
   ]
  },
  {
   "cell_type": "code",
   "execution_count": null,
   "id": "previous-oxford",
   "metadata": {},
   "outputs": [],
   "source": []
  }
 ],
 "metadata": {
  "kernelspec": {
   "display_name": "Python 3",
   "language": "python",
   "name": "python3"
  },
  "language_info": {
   "codemirror_mode": {
    "name": "ipython",
    "version": 3
   },
   "file_extension": ".py",
   "mimetype": "text/x-python",
   "name": "python",
   "nbconvert_exporter": "python",
   "pygments_lexer": "ipython3",
   "version": "3.9.2"
  }
 },
 "nbformat": 4,
 "nbformat_minor": 5
}
